{
 "cells": [
  {
   "cell_type": "markdown",
   "id": "8615fad5",
   "metadata": {
    "hideCode": false,
    "hidePrompt": false
   },
   "source": [
    "<div style=\"text-align: center; font-family: 'charter bt pro roman'; color: #2b2d42;\">\n",
    "    <h1>\n",
    "    Replicando los Hechos Estilizados del Crecimiento Económico\n",
    "    </h1>\n",
    "</div>"
   ]
  },
  {
   "cell_type": "markdown",
   "id": "683a1b24",
   "metadata": {
    "hideCode": false,
    "hidePrompt": false
   },
   "source": [
    "<div style=\"text-align: center; font-family: 'charter bt pro roman'; color: #2b2d42;\">\n",
    "<h3>\n",
    "Documentation\n",
    "<br>\n",
    "____________________\n",
    "<br>\n",
    "</h3>\n",
    "</div>"
   ]
  },
  {
   "cell_type": "markdown",
   "id": "ddee9a0a",
   "metadata": {
    "hideCode": false,
    "hidePrompt": false
   },
   "source": [
    "<div style=\"font-family: PT Serif Pro Book; text-align: left; color: dark; font-size: 16px;\">\n",
    "    Este <i>notebook</i> contiene la documentación para la replicación de los Hechos Estilizados (HE) de <a href=\"https://link.springer.com/chapter/10.1007/978-1-349-08452-4_10\" style=\"color: #2541b2\">Kaldor (1963)</a> para el crecimiento económico. Estamos interesados en explorar la data para analizar las principales variables macro y los grandes ratios, y contrastar con capítulos como el de introducción de \"Economic Growth\" de Barro & Sala-i-Martin quienes hacen un tratamiento especial de estas cuestiones.\n",
    "</div>"
   ]
  },
  {
   "cell_type": "markdown",
   "id": "7dadbf76",
   "metadata": {
    "hideCode": false,
    "hidePrompt": false
   },
   "source": [
    "<div style=\"font-family: PT Serif Pro Book; text-align: left; color: dark; font-size: 16px;\">\n",
    "    <span style=\"font-size: 34px;\">&#128452;</span> Consulte todo lo que necesita saber (documentación, proyectos, investigación, recursos, etc.) sobre <i>Penn World Tables (PWT)</i> <a href=\"https://www.rug.nl/ggdc/productivity/pwt/?lang=en\" style=\"color: #2541b2\">aquí</a>. Visite principalmente esta <a href=\"https://www.rug.nl/ggdc/docs/pwt100-user-guide-to-data-files.pdf\" style=\"color: #2541b2\">guía de usuario</a> y este <a href=\"https://www.rug.nl/ggdc/productivity/pwt/related-research-papers/the_next_generation_of_the_penn_world_table.pdf\" style=\"color: #2541b2\"><i>paper</i></a>.\n",
    "</div>"
   ]
  },
  {
   "cell_type": "markdown",
   "id": "273ddc23",
   "metadata": {
    "hideCode": false,
    "hidePrompt": false
   },
   "source": [
    "<div style=\"text-align: center; font-family: 'PT Serif Pro Book'; color: #03256c; font-size: 16px;\">\n",
    "    Jason Cruz\n",
    "    <br>\n",
    "    <a href=\"mailto:jj.cruza@up.edu.pe\" style=\"color: #03256c; font-size: 16px;\">\n",
    "        jj.cruza@up.edu.pe\n",
    "    </a>\n",
    "</div>"
   ]
  },
  {
   "cell_type": "markdown",
   "id": "59a62c7c",
   "metadata": {},
   "source": [
    "<div style=\"font-family: Amaya; text-align: left; color: #03256c; font-size:16px\">El siguiente <b>outline es funcional</b>. Utilizando los botones proporcionados, los usuarios pueden mejorar su experiencia navegando por este <i>script</i>.<div/>"
   ]
  },
  {
   "cell_type": "markdown",
   "id": "fabb5221",
   "metadata": {},
   "source": [
    "<div id=\"outilne\">\n",
    "   <!-- Contenido de la celda de destino -->\n",
    "</div>"
   ]
  },
  {
   "cell_type": "markdown",
   "id": "7a180942",
   "metadata": {},
   "source": [
    "<div style=\"background-color: #2b2d42; padding: 10px; line-height: 1.5; font-family: 'PT Serif Pro Book';\">\n",
    "    <h2 style=\"text-align: left; color: #edf2f4;\">\n",
    "        Outline\n",
    "    </h2>\n",
    "    <br>\n",
    "    <a href=\"#libraries\" style=\"color: #06bee1; font-size: 18px; margin-left: 0px;\">\n",
    "        Libraries</a>\n",
    "    <br>\n",
    "    <a href=\"#setup\" style=\"color: #06bee1; font-size: 18px; margin-left: 0px;\">\n",
    "        Initial set-up</a>\n",
    "    <br>\n",
    "    <a href=\"#1\" style=\"color: #ffffff; font-size: 18px; margin-left: 0px;\">\n",
    "        1. Economic sector selector</a>\n",
    "    <br>\n",
    "    <a href=\"#2\" style=\"color: #ffffff; font-size: 18px; margin-left: 0px;\">\n",
    "        2. Create horizon datasets</a>\n",
    "    <br>\n",
    "    <a href=\"#2.1.\" style=\"color: #94FFD8; font-size: 16px; margin-left: 20px;\">\n",
    "        2.1. Loading growth rate datasets from postgresql.</a>\n",
    "    <br>\n",
    "    <a href=\"#2.2.\" style=\"color: #94FFD8; font-size: 16px; margin-left: 20px;\">\n",
    "        2.2. Creating horizon dataset step by step.</a> \n",
    "    <br>\n",
    "    <a href=\"#3\" style=\"color: #ffffff; font-size: 18px; margin-left: 0px;\">\n",
    "        3. Create base year datasets</a>\n",
    "    <br>\n",
    "    <a href=\"#3.1.\" style=\"color: #94FFD8; font-size: 16px; margin-left: 20px;\">\n",
    "        3.1. Loading growth rate datasets from postgresql.</a>\n",
    "    <br>\n",
    "    <a href=\"#3.2.\" style=\"color: #94FFD8; font-size: 16px; margin-left: 20px;\">\n",
    "        3.2. Creating base year dataset.</a> \n",
    "    <br>\n",
    "    <a href=\"#4\" style=\"color: #ffffff; font-size: 18px; margin-left: 0px;\">\n",
    "        4. Remove observations affected by base year</a>\n",
    "    <br>\n",
    "    <a href=\"#5\" style=\"color: #ffffff; font-size: 18px; margin-left: 0px;\">\n",
    "        5. Create growth rates by horizon dataset</a>\n",
    "    <br>\n",
    "    <a href=\"#6\" style=\"color: #ffffff; font-size: 18px; margin-left: 0px;\">\n",
    "        6. Create vintages and releases datasets</a>\n",
    "    <br>\n",
    "    <a href=\"#7\" style=\"color: #ffffff; font-size: 18px; margin-left: 0px;\">\n",
    "        7. Loading to SQL</a>\n",
    "    <br>\n",
    "</div>"
   ]
  },
  {
   "cell_type": "markdown",
   "id": "dde6b60a",
   "metadata": {},
   "source": [
    "<div style=\"text-align: left; font-family: 'PT Serif Pro Book'; color: dark; font-size:16px\">\n",
    "    Si tiene alguna pregunta o problema sobre el <i>coding</i>, envíe un correo electrónico a Jason Cruz <a href=\"mailto:jj.cruza@alum.up.edu.pe\" style=\"color: rgb(0, 153, 123); text-decoration: none;\"><span style=\"font-size: 24px;\">&#x2709;</span>\n",
    "    </a>.\n",
    "    <div/>"
   ]
  },
  {
   "cell_type": "markdown",
   "id": "328e8b3f",
   "metadata": {},
   "source": [
    "<div style=\"text-align: left; font-family: 'PT Serif Pro Book'; color: dark; font-size:16px\">\n",
    "    Si no dispone de las librerías indicadas a continuación, utilice el siguiente código (como ejemplo) para instalar las librerías necesarias.\n",
    "    <div/>"
   ]
  },
  {
   "cell_type": "code",
   "execution_count": 33,
   "id": "11b9682f",
   "metadata": {},
   "outputs": [],
   "source": [
    "#!pip install os # Comment this code with \"#\" if you have already installed this library."
   ]
  },
  {
   "cell_type": "markdown",
   "id": "1ef6ac24",
   "metadata": {},
   "source": [
    "<div id=\"libraries\">\n",
    "   <!-- Contenido de la celda de destino -->\n",
    "</div>"
   ]
  },
  {
   "cell_type": "markdown",
   "id": "c2475336",
   "metadata": {
    "hideCode": false,
    "hidePrompt": false
   },
   "source": [
    "<div style=\"text-align: left; font-family: 'PT Serif Pro Book'; color: dark;\">\n",
    "    <h2>\n",
    "    Libraries\n",
    "    </h2>\n",
    "    <div/>"
   ]
  },
  {
   "cell_type": "code",
   "execution_count": 5,
   "id": "762febed",
   "metadata": {
    "collapsed": true,
    "hideCode": false,
    "hidePrompt": false
   },
   "outputs": [],
   "source": [
    "from urllib.request import urlopen # para acceder a sitios web (en especial, al sitio web de PWT).\n",
    "from bs4 import BeautifulSoup # para web scraping.\n",
    "import numpy as np # usual (arrays y matrices, funciones matemáticas).\n",
    "import pandas as pd # usual (data frames).\n",
    "import matplotlib.pyplot as plt # gráficos.\n",
    "import matplotlib as mpl # estilo de gráficos.\n",
    "get_ipython().run_line_magic('matplotlib', 'inline') # estilo de gráficos.\n",
    "import seaborn as sns # estilo de gráficos.\n",
    "sns.set() # \"seteando\" seaborn.\n",
    "import os # para trabajos de rutas."
   ]
  },
  {
   "cell_type": "markdown",
   "id": "1c620cf2",
   "metadata": {},
   "source": [
    "<div style=\"font-family: PT Serif Pro Book; text-align: left; color: dark; font-size: 16px;\">\n",
    "    <span style=\"font-size: 30px; color: #2541b2; font-weight: bold;\">\n",
    "        <a href=\"#outilne\" style=\"color: #06bee1; text-decoration: none;\">&#11180;</a>\n",
    "    </span> \n",
    "    <a href=\"#outilne\" style=\"color: #2541b2; text-decoration: none;\">Retorne al outline.</a>\n",
    "</div>"
   ]
  },
  {
   "cell_type": "markdown",
   "id": "15eccded",
   "metadata": {
    "hideCode": false,
    "hidePrompt": false
   },
   "source": [
    "<div style=\"font-family: PT Serif Pro Book; text-align: left; color: dark; font-size: 16px;\">\n",
    "    Usted puede ver más sobre <i>web scraping</i> en esta interesante <a href=\"https://python-adv-web-apps.readthedocs.io/en/latest/scraping.html\" style=\"color: #2541b2\"> <i>documentación</i></a>.\n",
    "</div>"
   ]
  },
  {
   "cell_type": "markdown",
   "id": "7147124b",
   "metadata": {},
   "source": [
    "<div id=\"setup\">\n",
    "   <!-- Contenido de la celda de destino -->\n",
    "</div>"
   ]
  },
  {
   "cell_type": "markdown",
   "id": "b1caadfb",
   "metadata": {
    "hideCode": false,
    "hidePrompt": false
   },
   "source": [
    "<div style=\"text-align: left; font-family: 'PT Serif Pro Book'; color: dark;\">\n",
    "    <h2>\n",
    "    Initial set-up\n",
    "    </h2>\n",
    "    <div/>"
   ]
  },
  {
   "cell_type": "markdown",
   "id": "5477e0e3",
   "metadata": {
    "hideCode": false,
    "hidePrompt": false
   },
   "source": [
    "<div style=\"font-family: PT Serif Pro Book; text-align: left; color: dark; font-size: 16px;\">\n",
    "    Las siguientes 2 líneas crearan carpetas en su ruta actual, llámelas para exportar sus resultados.\n",
    "</div>"
   ]
  },
  {
   "cell_type": "code",
   "execution_count": 36,
   "id": "2270f669",
   "metadata": {
    "hideCode": false,
    "hidePrompt": false
   },
   "outputs": [],
   "source": [
    "out_folder = 'output' # folder para guardar resultados que produce el código\n",
    "if not os.path.exists(out_folder):\n",
    "    os.mkdir(out_folder)"
   ]
  },
  {
   "cell_type": "code",
   "execution_count": 37,
   "id": "505f98b3",
   "metadata": {
    "hideCode": false,
    "hidePrompt": false
   },
   "outputs": [],
   "source": [
    "# Carpeta para los gráficos\n",
    "graphs_folder = 'output/graphs'\n",
    "if not os.path.exists(graphs_folder):\n",
    "    os.makedirs(graphs_folder)  # Crea la carpeta si no existe\n",
    "\n",
    "# Carpeta para las tablas (datos exportados (.csv))\n",
    "tables_folder = 'output/tables'\n",
    "if not os.path.exists(tables_folder):\n",
    "    os.makedirs(tables_folder)  # Crea la carpeta si no existe"
   ]
  },
  {
   "cell_type": "markdown",
   "id": "df8542ac",
   "metadata": {},
   "source": [
    "<div id=\"1\">\n",
    "   <!-- Contenido de la celda de destino -->\n",
    "</div>"
   ]
  },
  {
   "cell_type": "markdown",
   "id": "3f229b32",
   "metadata": {
    "hideCode": false,
    "hidePrompt": false
   },
   "source": [
    "<h1><span style = \"color: rgb(0, 65, 75); font-family: PT Serif Pro Book; color: dark;\">1.</span> <span style = \"color: dark; font-family: PT Serif Pro Book;\">Scraping PWT</span></h1>"
   ]
  },
  {
   "cell_type": "markdown",
   "id": "6e72724d",
   "metadata": {
    "hideCode": false,
    "hidePrompt": false
   },
   "source": [
    "<div style=\"font-family: PT Serif Pro Book; text-align: left; color: dark; font-size: 16px;\">\n",
    "    Enlace de descarga del archivo excel de PWT.\n",
    "</div>"
   ]
  },
  {
   "cell_type": "code",
   "execution_count": 38,
   "id": "43c15a31",
   "metadata": {
    "hideCode": false,
    "hidePrompt": false
   },
   "outputs": [],
   "source": [
    "pwt_excel_url = 'https://dataverse.nl/api/access/datafile/354095'"
   ]
  },
  {
   "cell_type": "markdown",
   "id": "79b318b9",
   "metadata": {
    "hideCode": false,
    "hidePrompt": false
   },
   "source": [
    "<div style=\"font-family: PT Serif Pro Book; text-align: left; color: dark; font-size: 16px;\">\n",
    "    Obtenemos la fuente HTML para ingresar la página de inicio de PWT.\n",
    "</div>"
   ]
  },
  {
   "cell_type": "code",
   "execution_count": 39,
   "id": "6c6fd8e8",
   "metadata": {
    "hideCode": false,
    "hidePrompt": false
   },
   "outputs": [],
   "source": [
    "html = urlopen(\"https://www.rug.nl/ggdc/productivity/pwt/?lang=en\").read() # necesario para scrapear."
   ]
  },
  {
   "cell_type": "markdown",
   "id": "4683e9b5",
   "metadata": {
    "hideCode": false,
    "hidePrompt": false
   },
   "source": [
    "<div style=\"font-family: PT Serif Pro Book; text-align: left; color: dark; font-size: 16px;\">\n",
    "    Definimos el parsing del HTML.\n",
    "</div>"
   ]
  },
  {
   "cell_type": "code",
   "execution_count": 40,
   "id": "8300954c",
   "metadata": {
    "hideCode": false,
    "hidePrompt": false
   },
   "outputs": [],
   "source": [
    "soup = BeautifulSoup(html, 'html.parser')"
   ]
  },
  {
   "cell_type": "markdown",
   "id": "02ed4fe7",
   "metadata": {
    "hideCode": false,
    "hidePrompt": false
   },
   "source": [
    "<div style=\"font-family: Times New Roman; text-align: left; color:dark\"> Encontramos el string \"título\" para obtener la versión más reciente de PWT. <div/>"
   ]
  },
  {
   "cell_type": "code",
   "execution_count": 41,
   "id": "613d2e23",
   "metadata": {
    "hideCode": false,
    "hidePrompt": false
   },
   "outputs": [
    {
     "data": {
      "text/plain": [
       "'PWT 10.01 | Penn World Table | Groningen Growth and Development Centre | University of Groningen'"
      ]
     },
     "execution_count": 41,
     "metadata": {},
     "output_type": "execute_result"
    }
   ],
   "source": [
    "title = soup.find('title').string # Cada vez que visite la página de PWT extraerá la última versión.\n",
    "title"
   ]
  },
  {
   "cell_type": "code",
   "execution_count": 43,
   "id": "347b60a3",
   "metadata": {
    "hideCode": false,
    "hidePrompt": false
   },
   "outputs": [
    {
     "name": "stdout",
     "output_type": "stream",
     "text": [
      "La versión actual es: 10.01\n"
     ]
    }
   ],
   "source": [
    "# Revisamos la versión\n",
    "try:\n",
    "    float(title.string.split(' ')[1])\n",
    "    pwt_version = title.string.split(' ')[1]\n",
    "    print('La versión actual es: ' + pwt_version)\n",
    "except:\n",
    "    print('Automatic PWT version identification failed.')"
   ]
  },
  {
   "cell_type": "markdown",
   "id": "06c182b4",
   "metadata": {
    "hideCode": false,
    "hidePrompt": false
   },
   "source": [
    "<div style=\"font-family: Times New Roman; text-align: left; color:dark\"> <b> Importamos el dataset. </b> <div/>"
   ]
  },
  {
   "cell_type": "code",
   "execution_count": null,
   "id": "994ce6d0",
   "metadata": {
    "collapsed": true,
    "hideCode": false,
    "hidePrompt": false
   },
   "outputs": [],
   "source": [
    "# Establecemos el valor actual del archivo de datos PWT\n",
    "current_pwt_file = 'pwt_' + pwt_version.replace('.','_') + '.xlsx'\n",
    "current_pwt_file"
   ]
  },
  {
   "cell_type": "code",
   "execution_count": null,
   "id": "ff8593f0",
   "metadata": {
    "collapsed": true,
    "hideCode": false,
    "hidePrompt": false
   },
   "outputs": [],
   "source": [
    "# Importamos el dataset de una fuente local\n",
    "if os.path.exists('../xslx/'+current_pwt_file):\n",
    "    info = pd.read_excel('../xslx/'+current_pwt_file,sheet_name='Info',header=None)\n",
    "    legend = pd.read_excel('../xslx/'+current_pwt_file,sheet_name='Legend',index_col=0)\n",
    "    pwt = pd.read_excel('../xslx/'+current_pwt_file,sheet_name='Data',index_col=3,parse_dates=True)\n",
    "\n",
    "else:\n",
    "    info = pd.read_excel(pwt_excel_url,sheet_name='Info',header=None)\n",
    "    legend = pd.read_excel(pwt_excel_url,sheet_name='Legend',index_col=0)\n",
    "    pwt = pd.read_excel(pwt_excel_url,sheet_name='Data',index_col=3,parse_dates=True)"
   ]
  },
  {
   "cell_type": "markdown",
   "id": "6d8c0c45",
   "metadata": {
    "hideCode": false,
    "hidePrompt": false
   },
   "source": [
    "<div style=\"font-family: Times New Roman; text-align: left; color:dark\"> Creamos un archivo .csv con información relevante de PWT. <div/>"
   ]
  },
  {
   "cell_type": "code",
   "execution_count": null,
   "id": "74f2eb8d",
   "metadata": {
    "collapsed": true,
    "hideCode": false,
    "hidePrompt": false
   },
   "outputs": [],
   "source": [
    "version = info.iloc[0][0].split(' ')[-1]\n",
    "base_year = legend.loc['rgdpe']['Variable definition'].split(' ')[-1].split('US')[0] # año base para las variables en términos reales.\n",
    "final_year = pwt[pwt['countrycode']=='USA'].sort_index().index[-1].year # último año con el que contamos en la data."
   ]
  },
  {
   "cell_type": "code",
   "execution_count": null,
   "id": "96edf54a",
   "metadata": {
    "collapsed": true,
    "hideCode": false,
    "hidePrompt": false
   },
   "outputs": [],
   "source": [
    "# Exportamos el archivo\n",
    "metadata = pd.Series(dtype=str,name='Values')\n",
    "metadata['version'] = version\n",
    "metadata['base_year'] = base_year\n",
    "metadata['final_year'] = final_year\n",
    "metadata['gdp_per_capita_units'] = base_year+' dollars per person'\n",
    "\n",
    "metadata.to_csv(f\"{out_dir_1}/{'pwt_metadata.csv'}\")"
   ]
  },
  {
   "cell_type": "markdown",
   "id": "31ae35d2",
   "metadata": {
    "hideCode": false,
    "hidePrompt": false
   },
   "source": [
    "<div style=\"font-family: Times New Roman; text-align: left; color:dark\"> Creamos un índice jerárquico. <div/>"
   ]
  },
  {
   "cell_type": "code",
   "execution_count": null,
   "id": "d8f41aea",
   "metadata": {
    "collapsed": true,
    "hideCode": false,
    "hidePrompt": false
   },
   "outputs": [],
   "source": [
    "pwt = pwt.set_index(['country', pwt.index]) # útil para determinar las unidades id (país-año) y para la visualización de los HE.\n",
    "pwt.head(5)"
   ]
  },
  {
   "cell_type": "markdown",
   "id": "0b0e5b8c",
   "metadata": {
    "hideCode": false,
    "hidePrompt": false
   },
   "source": [
    "<div style=\"font-family: Times New Roman; text-align: left; color:dark\"> Descripción de la data. <div/>"
   ]
  },
  {
   "cell_type": "code",
   "execution_count": null,
   "id": "ebeea6f3",
   "metadata": {
    "collapsed": true,
    "hideCode": false,
    "hidePrompt": false
   },
   "outputs": [],
   "source": [
    "pwt.describe()"
   ]
  },
  {
   "cell_type": "code",
   "execution_count": null,
   "id": "33a79bc5",
   "metadata": {
    "collapsed": true,
    "hideCode": false,
    "hidePrompt": false
   },
   "outputs": [],
   "source": [
    "pwt.columns"
   ]
  },
  {
   "cell_type": "markdown",
   "id": "f3ceaf24",
   "metadata": {
    "hideCode": false,
    "hidePrompt": false
   },
   "source": [
    "<div style=\"font-family: Times New Roman; text-align: left; color:dark\"> Construímos una función para obtener las variables en términos por persona y por trabajador. <div/>"
   ]
  },
  {
   "cell_type": "code",
   "execution_count": null,
   "id": "4d2bc3f7",
   "metadata": {
    "collapsed": true,
    "hideCode": false,
    "hidePrompt": false
   },
   "outputs": [],
   "source": [
    "# Definir una función que construya conjuntos de datos\n",
    "def create_data_set(year_0, pwt_code, per_capita, per_worker):\n",
    "    \n",
    "    year_0 = str(year_0)\n",
    "    \n",
    "    if per_capita:\n",
    "        data = pwt[pwt_code]/pwt['pop']\n",
    "        \n",
    "    elif per_worker:\n",
    "        data = pwt[pwt_code]/pwt['emp']\n",
    "        \n",
    "    else:\n",
    "        data = pwt[pwt_code]\n",
    "        \n",
    "    data = data.unstack(level='country').loc[year_0:].dropna(axis=1)\n",
    "    \n",
    "    return data"
   ]
  },
  {
   "cell_type": "markdown",
   "id": "80de19f7",
   "metadata": {
    "hideCode": false,
    "hidePrompt": false
   },
   "source": [
    "<div style=\"font-family: Times New Roman; text-align: left; color:dark\"> Series de tiempo individuales. <div/>"
   ]
  },
  {
   "cell_type": "code",
   "execution_count": null,
   "id": "f1a929ce",
   "metadata": {
    "collapsed": true,
    "hideCode": false,
    "hidePrompt": false
   },
   "outputs": [],
   "source": [
    "# Generamos todas las variables involucradas en los HE\n",
    "gdp_pc = create_data_set(year_0 = 1960, pwt_code ='rgdpe', per_capita = True, per_worker = False)\n",
    "gdp_pw = create_data_set(year_0 = 1960, pwt_code ='rgdpe', per_capita = False, per_worker = True)\n",
    "capital_pc = create_data_set(year_0 = 1960, pwt_code = 'cn', per_capita = True, per_worker = False)\n",
    "capital_pw = create_data_set(year_0 = 1960, pwt_code = 'cn', per_capita = False, per_worker = True)\n",
    "return_capital = create_data_set(year_0 = 1960, pwt_code = 'irr', per_capita = False, per_worker = False)\n",
    "consumption_pc = create_data_set(year_0 = 1960, pwt_code = 'ccon', per_capita = True, per_worker = False)\n",
    "labor_national_income = create_data_set(year_0 = 1960, pwt_code = 'labsh', per_capita = False, per_worker = False)\n",
    "\n",
    "# Creamos una nueva variable para el ratio del capital físico entre producción\n",
    "pwt['ratio_k_y'] = (pwt['cn']/pwt['rgdpe']) \n",
    "ratio_k_y_pc = create_data_set(year_0 = 1960, pwt_code = 'ratio_k_y', per_capita = True, per_worker = False)\n",
    "\n",
    "# Creamos dos nuevas variables para las tasas de crecimiento\n",
    "pwt['pbi_pc'] = (pwt['rgdpe']/pwt['pop'])\n",
    "pwt['pbi_pw'] = (pwt['rgdpe']/pwt['emp'])\n",
    "pwt['growth_rate_pbi_pc'] = pwt['pbi_pc'].pct_change(periods=1) * 100 # tasa de crcimiento del PBI pc\n",
    "pwt['growth_rate_pbi_pw'] = pwt['pbi_pc'].pct_change(periods=1) * 100 # tasa de crcimiento del PBI pw\n",
    "growth_rate_gdp_pc = create_data_set(year_0 = 1960, pwt_code = 'growth_rate_pbi_pc', per_capita = False, per_worker = False)\n",
    "growth_rate_gdp_pw = create_data_set(year_0 = 1960, pwt_code = 'growth_rate_pbi_pw', per_capita = False, per_worker = False)"
   ]
  },
  {
   "cell_type": "code",
   "execution_count": null,
   "id": "dacaee76",
   "metadata": {
    "collapsed": true,
    "hideCode": false,
    "hidePrompt": false
   },
   "outputs": [],
   "source": [
    "# Calculamos nuevas variables en logaritmos\n",
    "\n",
    "pwt['log_pbi_pc'] = np.log2(pwt['pbi_pc'])\n",
    "pwt['log_pbi_pw'] = np.log2(pwt['pbi_pw'])\n",
    "log_gdp_pc = create_data_set(year_0 = 1960, pwt_code = 'log_pbi_pc', per_capita = False, per_worker = False)\n",
    "log_gdp_pw = create_data_set(year_0 = 1960, pwt_code = 'log_pbi_pw', per_capita = False, per_worker = False)"
   ]
  },
  {
   "cell_type": "code",
   "execution_count": null,
   "id": "335b629c",
   "metadata": {
    "collapsed": true,
    "hideCode": false,
    "hidePrompt": false
   },
   "outputs": [],
   "source": [
    "# Encontramos la intersección de países con datos de 1960\n",
    "intersection = gdp_pc.columns.intersection(gdp_pw.columns)\\\n",
    ".intersection(growth_rate_gdp_pc.columns).intersection(growth_rate_gdp_pw.columns)\\\n",
    ".intersection(log_gdp_pc.columns).intersection(log_gdp_pw.columns)\\\n",
    ".intersection(capital_pc.columns).intersection(capital_pw.columns)\\\n",
    ".intersection(return_capital.columns).intersection(consumption_pc.columns)\\\n",
    ".intersection(labor_national_income.columns).intersection(ratio_k_y_pc.columns)\n",
    "\n",
    "# Ajustamos la data\n",
    "gdp_pc = gdp_pc[intersection]\n",
    "gdp_pw = gdp_pw[intersection]\n",
    "growth_rate_gdp_pc = growth_rate_gdp_pc[intersection]\n",
    "growth_rate_gdp_pw = growth_rate_gdp_pw[intersection]\n",
    "log_gdp_pc = log_gdp_pc[intersection]\n",
    "log_gdp_pw = log_gdp_pw[intersection]\n",
    "capital_pc = capital_pc[intersection]\n",
    "capital_pw = capital_pw[intersection]\n",
    "return_capital = return_capital[intersection]\n",
    "consumption_pc = consumption_pc[intersection]\n",
    "labor_national_income = labor_national_income[intersection]\n",
    "ratio_k_y_pc = ratio_k_y_pc[intersection]\n",
    "\n",
    "# Exportamos a .csv\n",
    "gdp_pc.to_csv(f\"{out_dir_1}/{'gdp_pc.csv'}\")\n",
    "gdp_pw.to_csv(f\"{out_dir_1}/{'gdp_pw.csv'}\")\n",
    "growth_rate_gdp_pc.to_csv(f\"{out_dir_1}/{'growth_rate_gdp_pc.csv'}\")\n",
    "growth_rate_gdp_pw.to_csv(f\"{out_dir_1}/{'growth_rate_gdp_pw.csv'}\")\n",
    "log_gdp_pc.to_csv(f\"{out_dir_1}/{'log_gdp_pc.csv'}\")\n",
    "log_gdp_pw.to_csv(f\"{out_dir_1}/{'log_gdp_pw.csv'}\")\n",
    "capital_pc.to_csv(f\"{out_dir_1}/{'capital_pc.csv'}\")\n",
    "capital_pw.to_csv(f\"{out_dir_1}/{'capital_pw.csv'}\")\n",
    "return_capital.to_csv(f\"{out_dir_1}/{'return_capital.csv'}\")\n",
    "consumption_pc.to_csv(f\"{out_dir_1}/{'consumption_pc.csv'}\")\n",
    "labor_national_income.to_csv(f\"{out_dir_1}/{'labor_national_income.csv'}\")\n",
    "ratio_k_y_pc.to_csv(f\"{out_dir_1}/{'ratio_k_y_pc.csv'}\")"
   ]
  },
  {
   "cell_type": "markdown",
   "id": "5c61463b",
   "metadata": {
    "hideCode": false,
    "hidePrompt": false
   },
   "source": [
    "## Análisis y visualización de la data"
   ]
  },
  {
   "cell_type": "markdown",
   "id": "90c5152a",
   "metadata": {
    "hideCode": false,
    "hidePrompt": false
   },
   "source": [
    "<h2><b>$\\color{darkblue}{\\text{3.}}$</b> $\\color{black}{\\text{Hechos Estilizados de Kaldor (1963)}}$</h2>"
   ]
  },
  {
   "cell_type": "markdown",
   "id": "bdce4cfc",
   "metadata": {
    "hideCode": false,
    "hidePrompt": false
   },
   "source": [
    "<h3><b>$\\color{darkblue}{\\text{3.1. }}$</b> $\\color{black}{\\text{La producción per cápita crece en el tiempo y su tasa de crecimiento no es decreciente.}}$</h3>"
   ]
  },
  {
   "cell_type": "markdown",
   "id": "0e5e4bcd",
   "metadata": {
    "hideCode": false,
    "hidePrompt": false
   },
   "source": [
    "<div style=\"font-family: Times New Roman; text-align: left; color:dark\"> Producción per cápita. <div/>"
   ]
  },
  {
   "cell_type": "code",
   "execution_count": null,
   "id": "e4cdc594",
   "metadata": {
    "collapsed": true,
    "hideCode": false,
    "hidePrompt": false
   },
   "outputs": [],
   "source": [
    "df_gdp_pc = pd.read_csv(f\"{out_dir_1}/{'gdp_pc.csv'}\", index_col = 'year', parse_dates = True)\n",
    "df_gdp_pc.head(5)"
   ]
  },
  {
   "cell_type": "code",
   "execution_count": null,
   "id": "fab3ee1f",
   "metadata": {
    "collapsed": true,
    "hideCode": false,
    "hidePrompt": false
   },
   "outputs": [],
   "source": [
    "# Establecemos el tamaño de la figura\n",
    "fig, ax = plt.subplots(figsize=(30,20))\n",
    "\n",
    "# Etiquetamos los ejes\n",
    "ax.set_title('HE 1.1: La producción per cápita crece en el tiempo', fontsize = 42)\n",
    "ax.set_xlabel('Año', fontsize = 36)\n",
    "ax.set_ylabel('PBI real per capita', fontsize = 36)\n",
    "ax.tick_params(axis = 'both', which = 'major', labelsize = 32)\n",
    "ax.tick_params(axis = 'both', which = 'minor', labelsize = 16)\n",
    "\n",
    "# Ploteamos\n",
    "with plt.style.context('classic'):\n",
    "    plt.plot(df_gdp_pc['United States'], color = \"#d81159\", linewidth=8)\n",
    "    plt.plot(df_gdp_pc['China'], color = \"#090c9b\", linewidth=8)\n",
    "    plt.plot(df_gdp_pc['Japan'], color = \"#090c9b\", linewidth=8)\n",
    "    plt.plot(df_gdp_pc['Argentina'], color = \"#3066be\", linewidth=8)\n",
    "    plt.plot(df_gdp_pc['Chile'], color = \"#3066be\", linewidth=8)\n",
    "    plt.plot(df_gdp_pc['Colombia'], color = \"#3066be\", linewidth=8)\n",
    "    plt.plot(df_gdp_pc['Brazil'], color = \"#3066be\", linewidth=8)\n",
    "    plt.plot(df_gdp_pc['Peru'], color=\"#b4c5e4\", linewidth=8)\n",
    "    # Leyenda\n",
    "    plt.legend(['United States', 'China', 'Japan', 'Argentina', 'Chile', 'Colombia', 'Brazil', 'Peru'], loc='upper left', fontsize=\"30\")\n",
    "    plt.savefig(f\"{out_dir_2}/{'h1_1.pdf'}\", dpi=300, bbox_inches='tight') # exportamos  en pdf\n",
    "    plt.show()"
   ]
  },
  {
   "cell_type": "markdown",
   "id": "161ebea5",
   "metadata": {
    "hideCode": false,
    "hidePrompt": false
   },
   "source": [
    "<div style=\"font-family: Times New Roman; text-align: left; color:dark\"> Tasa de crecimiento de la producción per cápita. <div/>"
   ]
  },
  {
   "cell_type": "code",
   "execution_count": null,
   "id": "12c86ce5",
   "metadata": {
    "collapsed": true,
    "hideCode": false,
    "hidePrompt": false
   },
   "outputs": [],
   "source": [
    "df_growth_rate_gdp_pc = pd.read_csv(f\"{out_dir_1}/{'growth_rate_gdp_pc.csv'}\", index_col = 'year', parse_dates = True)\n",
    "df_growth_rate_gdp_pc.head(5)"
   ]
  },
  {
   "cell_type": "code",
   "execution_count": null,
   "id": "e8025936",
   "metadata": {
    "collapsed": true,
    "hideCode": false,
    "hidePrompt": false
   },
   "outputs": [],
   "source": [
    "# Establecemos el tamaño de la figura\n",
    "fig, ax = plt.subplots(figsize=(30,20))\n",
    "\n",
    "# Etiquetamos los ejes\n",
    "ax.set_title('HE 1.2: La tasa de crecimiento de la producción per cápita no es decreciente', fontsize = 42)\n",
    "ax.set_xlabel('Año', fontsize = 36)\n",
    "ax.set_ylabel('PBI real per capita', fontsize = 36)\n",
    "ax.tick_params(axis = 'both', which = 'major', labelsize = 32)\n",
    "ax.tick_params(axis = 'both', which = 'minor', labelsize = 16)\n",
    "\n",
    "# Ploteamos\n",
    "with plt.style.context('classic'):\n",
    "    plt.plot(df_growth_rate_gdp_pc['United States'], color = \"#d81159\", linewidth=8)\n",
    "    plt.plot(df_growth_rate_gdp_pc['China'], color = \"#090c9b\", linewidth=8)\n",
    "    plt.plot(df_growth_rate_gdp_pc['Japan'], color = \"#090c9b\", linewidth=8)\n",
    "    plt.plot(df_growth_rate_gdp_pc['Argentina'], color = \"#3066be\", linewidth=8)\n",
    "    plt.plot(df_growth_rate_gdp_pc['Chile'], color = \"#3066be\", linewidth=8)\n",
    "    plt.plot(df_growth_rate_gdp_pc['Colombia'], color = \"#3066be\", linewidth=8)\n",
    "    plt.plot(df_growth_rate_gdp_pc['Brazil'], color = \"#3066be\", linewidth=8)\n",
    "    plt.plot(df_growth_rate_gdp_pc['Peru'], color=\"#b4c5e4\", linewidth=8)\n",
    "    # Leyenda\n",
    "    plt.legend(['United States', 'China', 'Japan', 'Argentina', 'Chile', 'Colombia', 'Brazil', 'Peru'], loc='upper left', fontsize=\"30\")\n",
    "    plt.savefig(f\"{out_dir_2}/{'h1_2.pdf'}\", dpi=300, bbox_inches='tight') # exportamos  en pdf\n",
    "    plt.show()"
   ]
  },
  {
   "cell_type": "markdown",
   "id": "8ed69457",
   "metadata": {
    "hideCode": false,
    "hidePrompt": false
   },
   "source": [
    "##### Log de la producción per cápita."
   ]
  },
  {
   "cell_type": "code",
   "execution_count": null,
   "id": "ef8ca9a9",
   "metadata": {
    "collapsed": true,
    "hideCode": false,
    "hidePrompt": false
   },
   "outputs": [],
   "source": [
    "df_log_gdp_pc = pd.read_csv(f\"{out_dir_1}/{'log_gdp_pc.csv'}\", index_col='year', parse_dates = True)\n",
    "df_log_gdp_pc.head(5)"
   ]
  },
  {
   "cell_type": "markdown",
   "id": "668605ac",
   "metadata": {
    "hideCode": false,
    "hidePrompt": false
   },
   "source": [
    "<div style=\"font-family: Times New Roman; text-align: left; color:dark\"> Veamos qué ocurre con el log PBI pc. <div/>"
   ]
  },
  {
   "cell_type": "code",
   "execution_count": null,
   "id": "1360073c",
   "metadata": {
    "collapsed": true,
    "hideCode": false,
    "hidePrompt": false
   },
   "outputs": [],
   "source": [
    "# Establecemos el tamaño de la figura\n",
    "fig, ax = plt.subplots(figsize=(30,20))\n",
    "\n",
    "# Etiquetamos los ejes\n",
    "ax.set_title('HE 1.3: El log de la producción per cápita crece en el tiempo', fontsize = 42)\n",
    "ax.set_xlabel('Año', fontsize = 36)\n",
    "ax.set_ylabel('El capital físico por trabajador', fontsize = 36)\n",
    "ax.tick_params(axis = 'both', which = 'major', labelsize = 32)\n",
    "ax.tick_params(axis = 'both', which = 'minor', labelsize = 16)\n",
    "\n",
    "# Ploteamos\n",
    "with plt.style.context('classic'):\n",
    "    plt.plot(df_log_gdp_pc['United States'], color = \"#d81159\", linewidth=8)\n",
    "    plt.plot(df_log_gdp_pc['China'], color = \"#090c9b\", linewidth=8)\n",
    "    plt.plot(df_log_gdp_pc['Japan'], color = \"#090c9b\", linewidth=8)\n",
    "    plt.plot(df_log_gdp_pc['Argentina'], color = \"#3066be\", linewidth=8)\n",
    "    plt.plot(df_log_gdp_pc['Chile'], color = \"#3066be\", linewidth=8)\n",
    "    plt.plot(df_log_gdp_pc['Colombia'], color = \"#3066be\", linewidth=8)\n",
    "    plt.plot(df_log_gdp_pc['Brazil'], color = \"#3066be\", linewidth=8)\n",
    "    plt.plot(df_log_gdp_pc['Peru'], color=\"#b4c5e4\", linewidth=8)\n",
    "    # Leyenda\n",
    "    plt.legend(['United States', 'China', 'Japan', 'Argentina', 'Chile', 'Colombia', 'Brazil', 'Peru'], loc='upper left', fontsize=\"30\")\n",
    "    plt.savefig(f\"{out_dir_2}/{'h2.pdf'}\", dpi=300, bbox_inches='tight') # exportamos  en pdf\n",
    "    plt.show()"
   ]
  },
  {
   "cell_type": "markdown",
   "id": "8018b4de",
   "metadata": {
    "hideCode": false,
    "hidePrompt": false
   },
   "source": [
    "<h3><b>$\\color{darkblue}{\\text{3.2. }}$</b> $\\color{black}{\\text{El capital físico por trabajador crece en el tiempo.}}$</h3>"
   ]
  },
  {
   "cell_type": "code",
   "execution_count": null,
   "id": "2ce5c106",
   "metadata": {
    "collapsed": true,
    "hideCode": false,
    "hidePrompt": false
   },
   "outputs": [],
   "source": [
    "df_capital_pw = pd.read_csv(f\"{out_dir_1}/{'capital_pw.csv'}\", index_col='year', parse_dates = True)\n",
    "df_capital_pw.head(5)"
   ]
  },
  {
   "cell_type": "code",
   "execution_count": null,
   "id": "1fda6643",
   "metadata": {
    "collapsed": true,
    "hideCode": false,
    "hidePrompt": false
   },
   "outputs": [],
   "source": [
    "# Establecemos el tamaño de la figura\n",
    "fig, ax = plt.subplots(figsize=(30,20))\n",
    "\n",
    "# Etiquetamos los ejes\n",
    "ax.set_title('HE 2: El capital físico por trabajador crece en el tiempo', fontsize = 42)\n",
    "ax.set_xlabel('Año', fontsize = 36)\n",
    "ax.set_ylabel('El capital físico por trabajador', fontsize = 36)\n",
    "ax.tick_params(axis = 'both', which = 'major', labelsize = 32)\n",
    "ax.tick_params(axis = 'both', which = 'minor', labelsize = 16)\n",
    "\n",
    "# Ploteamos\n",
    "with plt.style.context('classic'):\n",
    "    plt.plot(df_capital_pw['United States'], color = \"#d81159\", linewidth=8)\n",
    "    plt.plot(df_capital_pw['China'], color = \"#090c9b\", linewidth=8)\n",
    "    plt.plot(df_capital_pw['Japan'], color = \"#090c9b\", linewidth=8)\n",
    "    plt.plot(df_capital_pw['Argentina'], color = \"#3066be\", linewidth=8)\n",
    "    plt.plot(df_capital_pw['Chile'], color = \"#3066be\", linewidth=8)\n",
    "    plt.plot(df_capital_pw['Colombia'], color = \"#3066be\", linewidth=8)\n",
    "    plt.plot(df_capital_pw['Brazil'], color = \"#3066be\", linewidth=8)\n",
    "    plt.plot(df_capital_pw['Peru'], color=\"#b4c5e4\", linewidth=8)\n",
    "    # Leyenda\n",
    "    plt.legend(['United States', 'China', 'Japan', 'Argentina', 'Chile', 'Colombia', 'Brazil', 'Peru'], loc='upper left', fontsize=\"30\")\n",
    "    plt.savefig(f\"{out_dir_2}/{'h2.pdf'}\", dpi=300, bbox_inches='tight') # exportamos  en pdf\n",
    "    plt.show()"
   ]
  },
  {
   "cell_type": "markdown",
   "id": "62930f44",
   "metadata": {
    "hideCode": false,
    "hidePrompt": false
   },
   "source": [
    "<h3><b>$\\color{darkblue}{\\text{3.3. }}$</b> $\\color{black}{\\text{La tasa de rentabilidad del capital es aproximadamente constante.}}$</h3>"
   ]
  },
  {
   "cell_type": "code",
   "execution_count": null,
   "id": "b2f2ab5b",
   "metadata": {
    "collapsed": true,
    "hideCode": false,
    "hidePrompt": false
   },
   "outputs": [],
   "source": [
    "df_return_capital = pd.read_csv(f\"{out_dir_1}/{'return_capital.csv'}\", index_col = 'year', parse_dates=True)\n",
    "df_return_capital.head(5)"
   ]
  },
  {
   "cell_type": "code",
   "execution_count": null,
   "id": "8331d0e4",
   "metadata": {
    "collapsed": true,
    "hideCode": false,
    "hidePrompt": false
   },
   "outputs": [],
   "source": [
    "# Establecemos el tamaño de la figura\n",
    "fig, ax = plt.subplots(figsize=(30,20))\n",
    "\n",
    "# Etiquetamos los ejes\n",
    "ax.set_title('HE 3: La tasa de rentabilidad del capital es aproximadamente constante', fontsize = 42)\n",
    "ax.set_xlabel('Año', fontsize = 36)\n",
    "ax.set_ylabel('El capital físico por trabajador', fontsize = 36)\n",
    "ax.tick_params(axis = 'both', which = 'major', labelsize = 32)\n",
    "ax.tick_params(axis = 'both', which = 'minor', labelsize = 16)\n",
    "\n",
    "# Ploteamos\n",
    "with plt.style.context('classic'):\n",
    "    plt.plot(df_return_capital['United States'], color = \"#d81159\", linewidth=8)\n",
    "    plt.plot(df_return_capital['China'], color = \"#090c9b\", linewidth=8)\n",
    "    plt.plot(df_return_capital['Japan'], color = \"#090c9b\", linewidth=8)\n",
    "    plt.plot(df_return_capital['Argentina'], color = \"#3066be\", linewidth=8)\n",
    "    plt.plot(df_return_capital['Chile'], color = \"#3066be\", linewidth=8)\n",
    "    plt.plot(df_return_capital['Colombia'], color = \"#3066be\", linewidth=8)\n",
    "    plt.plot(df_return_capital['Brazil'], color = \"#3066be\", linewidth=8)\n",
    "    plt.plot(df_return_capital['Peru'], color=\"#b4c5e4\", linewidth=8)\n",
    "    # Leyenda\n",
    "    plt.legend(['United States', 'China', 'Japan', 'Argentina', 'Chile', 'Colombia', 'Brazil', 'Peru'], loc='upper left', fontsize=\"30\")\n",
    "    plt.savefig(f\"{out_dir_2}/{'h3.pdf'}\", dpi=300, bbox_inches='tight') # exportamos  en pdf\n",
    "    plt.show()"
   ]
  },
  {
   "cell_type": "markdown",
   "id": "f21a6721",
   "metadata": {
    "hideCode": false,
    "hidePrompt": false
   },
   "source": [
    "<h3><b>$\\color{darkblue}{\\text{3.4. }}$</b> $\\color{black}{\\text{El ratio capital físico entre producción es aproximadamente constante.}}$</h3>"
   ]
  },
  {
   "cell_type": "code",
   "execution_count": null,
   "id": "187b094e",
   "metadata": {
    "collapsed": true,
    "hideCode": false,
    "hidePrompt": false
   },
   "outputs": [],
   "source": [
    "df_ratio_k_y_pc = pd.read_csv(f\"{out_dir_1}/{'ratio_k_y_pc.csv'}\", index_col = 'year', parse_dates=True)\n",
    "df_ratio_k_y_pc.head(5)"
   ]
  },
  {
   "cell_type": "code",
   "execution_count": null,
   "id": "7538419e",
   "metadata": {
    "collapsed": true,
    "hideCode": false,
    "hidePrompt": false
   },
   "outputs": [],
   "source": [
    "# Establecemos el tamaño de la figura\n",
    "fig, ax = plt.subplots(figsize=(30,20))\n",
    "\n",
    "# Etiquetamos los ejes\n",
    "ax.set_title('HE 4: El ratio capital físico entre producción es aproximadamente constante', fontsize = 42)\n",
    "ax.set_xlabel('Año', fontsize = 36)\n",
    "ax.set_ylabel('El capital físico por trabajador', fontsize = 36)\n",
    "ax.tick_params(axis = 'both', which = 'major', labelsize = 32)\n",
    "ax.tick_params(axis = 'both', which = 'minor', labelsize = 16)\n",
    "\n",
    "# Ploteamos\n",
    "with plt.style.context('classic'):\n",
    "    plt.plot(df_ratio_k_y_pc['United States'], color = \"#d81159\", linewidth=8)\n",
    "    plt.plot(df_ratio_k_y_pc['China'], color = \"#090c9b\", linewidth=8)\n",
    "    plt.plot(df_ratio_k_y_pc['Japan'], color = \"#090c9b\", linewidth=8)\n",
    "    plt.plot(df_ratio_k_y_pc['Argentina'], color = \"#3066be\", linewidth=8)\n",
    "    plt.plot(df_ratio_k_y_pc['Chile'], color = \"#3066be\", linewidth=8)\n",
    "    plt.plot(df_ratio_k_y_pc['Colombia'], color = \"#3066be\", linewidth=8)\n",
    "    plt.plot(df_ratio_k_y_pc['Brazil'], color = \"#3066be\", linewidth=8)\n",
    "    plt.plot(df_ratio_k_y_pc['Peru'], color=\"#b4c5e4\", linewidth=8)\n",
    "    # Leyenda\n",
    "    plt.legend(['United States', 'China', 'Japan', 'Argentina', 'Chile', 'Colombia', 'Brazil', 'Peru'], loc='upper left', fontsize=\"30\")\n",
    "    plt.savefig(f\"{out_dir_2}/{'h4.pdf'}\", dpi=300, bbox_inches='tight') # exportamos  en pdf\n",
    "    plt.show()"
   ]
  },
  {
   "cell_type": "markdown",
   "id": "cb8d23b9",
   "metadata": {
    "hideCode": false,
    "hidePrompt": false
   },
   "source": [
    "<h3><b>$\\color{darkblue}{\\text{1.5.}}$</b> $\\color{black}{\\text{Las participaciones del trabajo y capital físico en la renta nacional son aproximadamente constantes.}}$</h3>"
   ]
  },
  {
   "cell_type": "code",
   "execution_count": null,
   "id": "d853e9aa",
   "metadata": {
    "collapsed": true,
    "hideCode": false,
    "hidePrompt": false
   },
   "outputs": [],
   "source": [
    "df_labor_national_income = pd.read_csv(f\"{out_dir_1}/{'labor_national_income.csv'}\", index_col = 'year', parse_dates=True)\n",
    "df_labor_national_income.head(5)"
   ]
  },
  {
   "cell_type": "code",
   "execution_count": null,
   "id": "f97ac310",
   "metadata": {
    "collapsed": true,
    "hideCode": false,
    "hidePrompt": false
   },
   "outputs": [],
   "source": [
    "# Establecemos el tamaño de la figura\n",
    "fig, ax = plt.subplots(figsize=(30,20))\n",
    "\n",
    "# Etiquetamos los ejes\n",
    "ax.set_title('HE 5:  La participación del trabajo en la renta nacional es aproximadamente constante', fontsize = 42)\n",
    "ax.set_xlabel('Año', fontsize = 36)\n",
    "ax.set_ylabel('El capital físico por trabajador', fontsize = 36)\n",
    "ax.tick_params(axis = 'both', which = 'major', labelsize = 32)\n",
    "ax.tick_params(axis = 'both', which = 'minor', labelsize = 16)\n",
    "\n",
    "# Ploteamos\n",
    "with plt.style.context('classic'):\n",
    "    plt.plot(df_labor_national_income['United States'], color = \"#d81159\", linewidth=8)\n",
    "    plt.plot(df_labor_national_income['China'], color = \"#090c9b\", linewidth=8)\n",
    "    plt.plot(df_labor_national_income['Japan'], color = \"#090c9b\", linewidth=8)\n",
    "    plt.plot(df_labor_national_income['Argentina'], color = \"#3066be\", linewidth=8)\n",
    "    plt.plot(df_labor_national_income['Chile'], color = \"#3066be\", linewidth=8)\n",
    "    plt.plot(df_labor_national_income['Colombia'], color = \"#3066be\", linewidth=8)\n",
    "    plt.plot(df_labor_national_income['Brazil'], color = \"#3066be\", linewidth=8)\n",
    "    plt.plot(df_labor_national_income['Peru'], color=\"#b4c5e4\", linewidth=8)\n",
    "    # Leyenda\n",
    "    plt.legend(['United States', 'China', 'Japan', 'Argentina', 'Chile', 'Colombia', 'Brazil', 'Peru'], loc='upper left', fontsize=\"30\")\n",
    "    plt.savefig(f\"{out_dir_2}/{'h5.pdf'}\", dpi=300, bbox_inches='tight') # exportamos  en pdf\n",
    "    plt.show()"
   ]
  },
  {
   "cell_type": "markdown",
   "id": "9f514d83",
   "metadata": {
    "hideCode": false,
    "hidePrompt": false
   },
   "source": [
    "<h3><b>$\\color{darkblue}{\\text{1.6. }}$</b> $\\color{black}{\\text{La tasa de crecimiento de la producción por trabajador es muy distinta en los distintos países.}}$</h3>"
   ]
  },
  {
   "cell_type": "code",
   "execution_count": null,
   "id": "b6e0120d",
   "metadata": {
    "collapsed": true,
    "hideCode": false,
    "hidePrompt": false
   },
   "outputs": [],
   "source": [
    "df_gdp_pw = pd.read_csv(f\"{out_dir_1}/{'gdp_pw.csv'}\", index_col = 'year', parse_dates=True)\n",
    "df_gdp_pw.head(5)"
   ]
  },
  {
   "cell_type": "markdown",
   "id": "9a243a3c",
   "metadata": {
    "hideCode": false,
    "hidePrompt": false
   },
   "source": [
    "<div style=\"font-family: Times New Roman; text-align: left; color:dark\"> Tasa de crecimiento de la producción por trabajador. <div/>"
   ]
  },
  {
   "cell_type": "code",
   "execution_count": null,
   "id": "19a15782",
   "metadata": {
    "collapsed": true,
    "hideCode": false,
    "hidePrompt": false
   },
   "outputs": [],
   "source": [
    "df_growth_rate_gdp_pw = pd.read_csv(f\"{out_dir_1}/{'growth_rate_gdp_pw.csv'}\", index_col = 'year', parse_dates = True)\n",
    "df_growth_rate_gdp_pw.head(5)"
   ]
  },
  {
   "cell_type": "code",
   "execution_count": null,
   "id": "400ecd4a",
   "metadata": {
    "collapsed": true,
    "hideCode": false,
    "hidePrompt": false
   },
   "outputs": [],
   "source": [
    "# Establecemos el tamaño de la figura\n",
    "fig, ax = plt.subplots(figsize=(30,20))\n",
    "\n",
    "# Etiquetamos los ejes\n",
    "ax.set_title('HE 6:  La tasa de crecimiento de la producción por trabajador es muy distinta en los distintos países', fontsize = 42)\n",
    "ax.set_xlabel('Año', fontsize = 36)\n",
    "ax.set_ylabel('El capital físico por trabajador', fontsize = 36)\n",
    "ax.tick_params(axis = 'both', which = 'major', labelsize = 32)\n",
    "ax.tick_params(axis = 'both', which = 'minor', labelsize = 16)\n",
    "\n",
    "# Ploteamos\n",
    "with plt.style.context('classic'):\n",
    "    plt.plot(df_growth_rate_gdp_pw['United States'], color = \"#d81159\", linewidth=8)\n",
    "    plt.plot(df_growth_rate_gdp_pw['China'], color = \"#090c9b\", linewidth=8)\n",
    "    plt.plot(df_growth_rate_gdp_pw['Japan'], color = \"#090c9b\", linewidth=8)\n",
    "    plt.plot(df_growth_rate_gdp_pw['Argentina'], color = \"#3066be\", linewidth=8)\n",
    "    plt.plot(df_growth_rate_gdp_pw['Chile'], color = \"#3066be\", linewidth=8)\n",
    "    plt.plot(df_growth_rate_gdp_pw['Colombia'], color = \"#3066be\", linewidth=8)\n",
    "    plt.plot(df_growth_rate_gdp_pw['Brazil'], color = \"#3066be\", linewidth=8)\n",
    "    plt.plot(df_growth_rate_gdp_pw['Peru'], color=\"#b4c5e4\", linewidth=8)\n",
    "    # Leyenda\n",
    "    plt.legend(['United States', 'China', 'Japan', 'Argentina', 'Chile', 'Colombia', 'Brazil', 'Peru'], loc='upper left', fontsize=\"30\")\n",
    "    plt.savefig(f\"{out_dir_2}/{'h6.pdf'}\", dpi=300, bbox_inches='tight') # exportamos  en pdf\n",
    "    plt.show()"
   ]
  },
  {
   "cell_type": "code",
   "execution_count": null,
   "id": "2d244efe",
   "metadata": {
    "collapsed": true,
    "hideCode": false,
    "hidePrompt": false
   },
   "outputs": [],
   "source": []
  },
  {
   "cell_type": "code",
   "execution_count": null,
   "id": "ab169673",
   "metadata": {
    "collapsed": true,
    "hideCode": false,
    "hidePrompt": false
   },
   "outputs": [],
   "source": []
  }
 ],
 "metadata": {
  "hide_code_all_hidden": false,
  "kernelspec": {
   "display_name": "up_coding",
   "language": "python",
   "name": "up_coding"
  },
  "language_info": {
   "codemirror_mode": {
    "name": "ipython",
    "version": 3
   },
   "file_extension": ".py",
   "mimetype": "text/x-python",
   "name": "python",
   "nbconvert_exporter": "python",
   "pygments_lexer": "ipython3",
   "version": "3.9.16"
  }
 },
 "nbformat": 4,
 "nbformat_minor": 5
}
