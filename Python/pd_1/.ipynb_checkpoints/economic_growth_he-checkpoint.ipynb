{
 "cells": [
  {
   "cell_type": "markdown",
   "id": "8615fad5",
   "metadata": {
    "hideCode": false,
    "hidePrompt": false
   },
   "source": [
    "<div style=\"text-align: center; font-family: 'charter bt pro roman'; color: #2b2d42;\">\n",
    "    <h1>\n",
    "    Replicando los Hechos Estilizados del Crecimiento Económico\n",
    "    </h1>\n",
    "</div>"
   ]
  },
  {
   "cell_type": "markdown",
   "id": "683a1b24",
   "metadata": {
    "hideCode": false,
    "hidePrompt": false
   },
   "source": [
    "<div style=\"text-align: center; font-family: 'charter bt pro roman'; color: #2b2d42;\">\n",
    "<h3>\n",
    "Documentation\n",
    "<br>\n",
    "____________________\n",
    "<br>\n",
    "</h3>\n",
    "</div>"
   ]
  },
  {
   "cell_type": "markdown",
   "id": "ddee9a0a",
   "metadata": {
    "hideCode": false,
    "hidePrompt": false
   },
   "source": [
    "<div style=\"font-family: PT Serif Pro Book; text-align: left; color: dark; font-size: 16px;\">\n",
    "    Este <i>notebook</i> contiene la documentación para la replicación de los Hechos Estilizados (HE) de <a href=\"https://link.springer.com/chapter/10.1007/978-1-349-08452-4_10\" style=\"color: #2541b2\">Kaldor (1963)</a> para el crecimiento económico. Estamos interesados en explorar la data para analizar las principales variables macro y los grandes ratios, y contrastar con capítulos como el de introducción de \"Economic Growth\" de Barro & Sala-i-Martin quienes hacen un tratamiento especial de estas cuestiones.\n",
    "</div>"
   ]
  },
  {
   "cell_type": "markdown",
   "id": "7dadbf76",
   "metadata": {
    "hideCode": false,
    "hidePrompt": false
   },
   "source": [
    "<div style=\"font-family: PT Serif Pro Book; text-align: left; color: dark; font-size: 16px;\">\n",
    "    <span style=\"font-size: 34px;\">&#128452;</span> Consulte todo lo que necesita saber (documentación, proyectos, investigación, recursos, etc.) sobre <i>Penn World Tables (PWT)</i> <a href=\"https://www.rug.nl/ggdc/productivity/pwt/?lang=en\" style=\"color: #2541b2\">aquí</a>. Visite principalmente esta <a href=\"https://www.rug.nl/ggdc/docs/pwt100-user-guide-to-data-files.pdf\" style=\"color: #2541b2\">guía de usuario</a> y este <a href=\"https://www.rug.nl/ggdc/productivity/pwt/related-research-papers/the_next_generation_of_the_penn_world_table.pdf\" style=\"color: #2541b2\"><i>paper</i></a>.\n",
    "</div>"
   ]
  },
  {
   "cell_type": "markdown",
   "id": "273ddc23",
   "metadata": {
    "hideCode": false,
    "hidePrompt": false
   },
   "source": [
    "<div style=\"text-align: center; font-family: 'PT Serif Pro Book'; color: #03256c; font-size: 16px;\">\n",
    "    Jason Cruz\n",
    "    <br>\n",
    "    <a href=\"mailto:jj.cruza@up.edu.pe\" style=\"color: #03256c; font-size: 16px;\">\n",
    "        jj.cruza@up.edu.pe\n",
    "    </a>\n",
    "</div>"
   ]
  },
  {
   "cell_type": "markdown",
   "id": "91af4dc3",
   "metadata": {},
   "source": [
    "<div style=\"font-family: Amaya; text-align: left; color: #03256c; font-size:16px\">El siguiente <b>outline es funcional</b>. Utilizando los botones proporcionados, los usuarios pueden mejorar su experiencia navegando por este <i>script</i>.<div/>"
   ]
  },
  {
   "cell_type": "markdown",
   "id": "3736381f",
   "metadata": {},
   "source": [
    "<div id=\"outilne\">\n",
    "   <!-- Contenido de la celda de destino -->\n",
    "</div>"
   ]
  },
  {
   "cell_type": "markdown",
   "id": "4651ade9",
   "metadata": {},
   "source": [
    "<div style=\"background-color: #2b2d42; padding: 10px; line-height: 1.5; font-family: 'PT Serif Pro Book';\">\n",
    "    <h2 style=\"text-align: left; color: #edf2f4;\">\n",
    "        Outline\n",
    "    </h2>\n",
    "    <br>\n",
    "    <a href=\"#libraries\" style=\"color: #06bee1; font-size: 18px; margin-left: 0px;\">\n",
    "        Libraries</a>\n",
    "    <br>\n",
    "    <a href=\"#setup\" style=\"color: #06bee1; font-size: 18px; margin-left: 0px;\">\n",
    "        Initial set-up</a>\n",
    "    <br>\n",
    "    <a href=\"#1\" style=\"color: #ffffff; font-size: 18px; margin-left: 0px;\">\n",
    "        1. Economic sector selector</a>\n",
    "    <br>\n",
    "    <a href=\"#2\" style=\"color: #ffffff; font-size: 18px; margin-left: 0px;\">\n",
    "        2. Create horizon datasets</a>\n",
    "    <br>\n",
    "    <a href=\"#2.1.\" style=\"color: #94FFD8; font-size: 16px; margin-left: 20px;\">\n",
    "        2.1. Loading growth rate datasets from postgresql.</a>\n",
    "    <br>\n",
    "    <a href=\"#2.2.\" style=\"color: #94FFD8; font-size: 16px; margin-left: 20px;\">\n",
    "        2.2. Creating horizon dataset step by step.</a> \n",
    "    <br>\n",
    "    <a href=\"#3\" style=\"color: #ffffff; font-size: 18px; margin-left: 0px;\">\n",
    "        3. Create base year datasets</a>\n",
    "    <br>\n",
    "    <a href=\"#3.1.\" style=\"color: #94FFD8; font-size: 16px; margin-left: 20px;\">\n",
    "        3.1. Loading growth rate datasets from postgresql.</a>\n",
    "    <br>\n",
    "    <a href=\"#3.2.\" style=\"color: #94FFD8; font-size: 16px; margin-left: 20px;\">\n",
    "        3.2. Creating base year dataset.</a> \n",
    "    <br>\n",
    "    <a href=\"#4\" style=\"color: #ffffff; font-size: 18px; margin-left: 0px;\">\n",
    "        4. Remove observations affected by base year</a>\n",
    "    <br>\n",
    "    <a href=\"#5\" style=\"color: #ffffff; font-size: 18px; margin-left: 0px;\">\n",
    "        5. Create growth rates by horizon dataset</a>\n",
    "    <br>\n",
    "    <a href=\"#6\" style=\"color: #ffffff; font-size: 18px; margin-left: 0px;\">\n",
    "        6. Create vintages and releases datasets</a>\n",
    "    <br>\n",
    "    <a href=\"#7\" style=\"color: #ffffff; font-size: 18px; margin-left: 0px;\">\n",
    "        7. Loading to SQL</a>\n",
    "    <br>\n",
    "</div>"
   ]
  },
  {
   "cell_type": "markdown",
   "id": "430a4539",
   "metadata": {},
   "source": [
    "<div style=\"text-align: left; font-family: 'PT Serif Pro Book'; color: dark; font-size:16px\">\n",
    "    Si tiene alguna pregunta o problema sobre el <i>coding</i>, envíe un correo electrónico a Jason Cruz <a href=\"mailto:jj.cruza@alum.up.edu.pe\" style=\"color: rgb(0, 153, 123); text-decoration: none;\"><span style=\"font-size: 24px;\">&#x2709;</span>\n",
    "    </a>.\n",
    "    <div/>"
   ]
  },
  {
   "cell_type": "markdown",
   "id": "02487c19",
   "metadata": {},
   "source": [
    "<div style=\"text-align: left; font-family: 'PT Serif Pro Book'; color: dark; font-size:16px\">\n",
    "    Si no dispone de las librerías indicadas a continuación, utilice el siguiente código (como ejemplo) para instalar las librerías necesarias.\n",
    "    <div/>"
   ]
  },
  {
   "cell_type": "code",
   "execution_count": null,
   "id": "58b09396",
   "metadata": {},
   "outputs": [],
   "source": [
    "#!pip install os # Comment this code with \"#\" if you have already installed this library."
   ]
  },
  {
   "cell_type": "markdown",
   "id": "a0e58ab7",
   "metadata": {},
   "source": [
    "<div id=\"libraries\">\n",
    "   <!-- Contenido de la celda de destino -->\n",
    "</div>"
   ]
  },
  {
   "cell_type": "markdown",
   "id": "c2475336",
   "metadata": {
    "hideCode": false,
    "hidePrompt": false
   },
   "source": [
    "<div style=\"text-align: left; font-family: 'PT Serif Pro Book'; color: dark;\">\n",
    "    <h2>\n",
    "    Libraries\n",
    "    </h2>\n",
    "    <div/>"
   ]
  },
  {
   "cell_type": "code",
   "execution_count": 1,
   "id": "762febed",
   "metadata": {
    "hideCode": false,
    "hidePrompt": false
   },
   "outputs": [],
   "source": [
    "from urllib.request import urlopen # para acceder a sitios web (en especial, al sitio web de PWT).\n",
    "from bs4 import BeautifulSoup # para web scraping.\n",
    "import numpy as np # usual (arrays y matrices, funciones matemáticas).\n",
    "import pandas as pd # usual (data frames).\n",
    "import matplotlib.pyplot as plt # gráficos.\n",
    "import matplotlib as mpl # estilo de gráficos.\n",
    "get_ipython().run_line_magic('matplotlib', 'inline') # estilo de gráficos.\n",
    "import seaborn as sns # estilo de gráficos.\n",
    "sns.set() # \"seteando\" seaborn.\n",
    "import os # para trabajos de rutas."
   ]
  },
  {
   "cell_type": "markdown",
   "id": "b51c0f3b",
   "metadata": {},
   "source": [
    "<div style=\"font-family: PT Serif Pro Book; text-align: left; color: dark; font-size: 16px;\">\n",
    "    <span style=\"font-size: 30px; color: #2541b2; font-weight: bold;\">\n",
    "        <a href=\"#outilne\" style=\"color: #06bee1; text-decoration: none;\">&#11180;</a>\n",
    "    </span> \n",
    "    <a href=\"#outilne\" style=\"color: #2541b2; text-decoration: none;\">Retorne al outline.</a>\n",
    "</div>"
   ]
  },
  {
   "cell_type": "markdown",
   "id": "15eccded",
   "metadata": {
    "hideCode": false,
    "hidePrompt": false
   },
   "source": [
    "<div style=\"font-family: PT Serif Pro Book; text-align: left; color: dark; font-size: 16px;\">\n",
    "    Usted puede ver más sobre <i>web scraping</i> en esta interesante <a href=\"https://python-adv-web-apps.readthedocs.io/en/latest/scraping.html\" style=\"color: #2541b2\"> <i>documentación</i></a>.\n",
    "</div>"
   ]
  },
  {
   "cell_type": "markdown",
   "id": "577bac51",
   "metadata": {},
   "source": [
    "<div id=\"setup\">\n",
    "   <!-- Contenido de la celda de destino -->\n",
    "</div>"
   ]
  },
  {
   "cell_type": "markdown",
   "id": "b1caadfb",
   "metadata": {
    "hideCode": false,
    "hidePrompt": false
   },
   "source": [
    "<div style=\"text-align: left; font-family: 'PT Serif Pro Book'; color: dark;\">\n",
    "    <h2>\n",
    "    Initial set-up\n",
    "    </h2>\n",
    "    <div/>"
   ]
  },
  {
   "cell_type": "markdown",
   "id": "1fa4bade",
   "metadata": {},
   "source": [
    "<div style=\"text-align: left;\">\n",
    "    <span style=\"font-size: 24px; color: rgb(255, 32, 78); font-weight: bold;\">&#9888;</span>\n",
    "    <span style=\"font-family: PT Serif Pro Book; color: black; font-size: 16px;\">\n",
    "        Importe todas las funciones requeridas por este <i>script</i>.\n",
    "    </span>\n",
    "</div>"
   ]
  },
  {
   "cell_type": "markdown",
   "id": "30328a4f",
   "metadata": {},
   "source": [
    "<div style=\"font-family: PT Serif Pro Book; text-align: left; color:dark; font-size:16px\">Por favor, revise el <i>script</i> <code>economic_growth_he_functions.py</code>, el cual contiene todas las funciones requeridas por este <i>notebook</i>. Las funciones ahí están ordenadas de acuerdo a las <a href=\"#outilne\" style=\"color: #3d30a2;\">secciones</a> de este <i>script</i>.<div/>"
   ]
  },
  {
   "cell_type": "code",
   "execution_count": 2,
   "id": "c8a87b52",
   "metadata": {},
   "outputs": [],
   "source": [
    "# Import the function from the .py file\n",
    "from economic_growth_he_functions import *"
   ]
  },
  {
   "cell_type": "markdown",
   "id": "40d88978",
   "metadata": {},
   "source": [
    "<div style=\"font-family: PT Serif Pro Book; text-align: left; color: dark; font-size: 16px;\">\n",
    "    Establezca su ruta base de trabajo\n",
    "</div>"
   ]
  },
  {
   "cell_type": "code",
   "execution_count": 3,
   "id": "ef1c9007",
   "metadata": {},
   "outputs": [
    {
     "name": "stdout",
     "output_type": "stream",
     "text": [
      "Ruta base establecida en: C:/Users/Jason Cruz/OneDrive/Documentos/Teaching Assistant/GitHub/up_macroeconomic_3/Python/pd_1\n"
     ]
    }
   ],
   "source": [
    "# Call the function to set the base path\n",
    "set_base_path() # Una vez seleccionada su ruta, espere un par de segundos hasta que el código ejecute la orden"
   ]
  },
  {
   "cell_type": "markdown",
   "id": "5477e0e3",
   "metadata": {
    "hideCode": false,
    "hidePrompt": false
   },
   "source": [
    "<div style=\"font-family: PT Serif Pro Book; text-align: left; color: dark; font-size: 16px;\">\n",
    "    Las siguientes 2 líneas crearan carpetas en su ruta actual, llámelas para exportar sus resultados.\n",
    "</div>"
   ]
  },
  {
   "cell_type": "code",
   "execution_count": 34,
   "id": "2270f669",
   "metadata": {
    "hideCode": false,
    "hidePrompt": false
   },
   "outputs": [],
   "source": [
    "in_folder = 'input' # folder para guardar data input provisional que se requiere en alguna parte del código\n",
    "if not os.path.exists(in_folder):\n",
    "    os.mkdir(in_folder)\n",
    "\n",
    "out_folder = 'output' # folder para guardar resultados que produce el código\n",
    "if not os.path.exists(out_folder):\n",
    "    os.mkdir(out_folder)"
   ]
  },
  {
   "cell_type": "code",
   "execution_count": 5,
   "id": "505f98b3",
   "metadata": {
    "hideCode": false,
    "hidePrompt": false
   },
   "outputs": [],
   "source": [
    "# Carpeta para los gráficos\n",
    "graphs_folder = 'output/graphs'\n",
    "if not os.path.exists(graphs_folder):\n",
    "    os.makedirs(graphs_folder)  # Crea la carpeta si no existe\n",
    "\n",
    "# Carpeta para las tablas (datos exportados (.csv))\n",
    "tables_folder = 'output/tables'\n",
    "if not os.path.exists(tables_folder):\n",
    "    os.makedirs(tables_folder)  # Crea la carpeta si no existe"
   ]
  },
  {
   "cell_type": "markdown",
   "id": "2d4509cd",
   "metadata": {},
   "source": [
    "<div style=\"font-family: PT Serif Pro Book; text-align: left; color:dark; font-size:16px\">\n",
    "    <span style=\"font-size: 24px; color: rgb(255, 32, 78); font-weight: bold;\">&#9888;</span>\n",
    "    Descargue el archivo <code>continents-according-to-our-world-in-data.csv</code> de <a href=\"https://ourworldindata.org/world-region-map-definitions\" style=\"color: #2541b2\">Definitions of world regions</a> de Our Worl in Data, y agréguelo en la ruta <code>input_data</code>.\n",
    "<p>\n",
    "De manera alternativa, puede agregar un código de <i>web scraping</i> para automatizar la importación de esta data sin tener que almacenarla localmente. Esto es más eficiente y este <i>script</i> ofrece un ejemplo claro que puede ser replicado para conseguirlo.\n",
    "       </p>\n",
    "    <div/>"
   ]
  },
  {
   "cell_type": "markdown",
   "id": "b89f2502",
   "metadata": {},
   "source": [
    "<div style=\"font-family: PT Serif Pro Book; text-align: left; color: dark; font-size: 16px;\">\n",
    "    <span style=\"font-size: 30px; color: #2541b2; font-weight: bold;\">\n",
    "        <a href=\"#outilne\" style=\"color: #06bee1; text-decoration: none;\">&#11180;</a>\n",
    "    </span> \n",
    "    <a href=\"#outilne\" style=\"color: #2541b2; text-decoration: none;\">Retorne al outline.</a>\n",
    "</div>"
   ]
  },
  {
   "cell_type": "markdown",
   "id": "e276886f",
   "metadata": {},
   "source": [
    "<div id=\"1\">\n",
    "   <!-- Contenido de la celda de destino -->\n",
    "</div>"
   ]
  },
  {
   "cell_type": "markdown",
   "id": "3f229b32",
   "metadata": {
    "hideCode": false,
    "hidePrompt": false
   },
   "source": [
    "<h1><span style = \"color: #2541b2; font-family: PT Serif Pro Book; color: dark;\">1.</span> <span style = \"color: dark; font-family: PT Serif Pro Book;\"><i>PWT Scraping</i></span></h1>"
   ]
  },
  {
   "cell_type": "markdown",
   "id": "6e72724d",
   "metadata": {
    "hideCode": false,
    "hidePrompt": false
   },
   "source": [
    "<div style=\"font-family: PT Serif Pro Book; text-align: left; color: dark; font-size: 16px;\">\n",
    "    Enlace de descarga del archivo excel de PWT.\n",
    "</div>"
   ]
  },
  {
   "cell_type": "code",
   "execution_count": 6,
   "id": "43c15a31",
   "metadata": {
    "hideCode": false,
    "hidePrompt": false
   },
   "outputs": [],
   "source": [
    "pwt_excel_url = 'https://dataverse.nl/api/access/datafile/354095'"
   ]
  },
  {
   "cell_type": "markdown",
   "id": "79b318b9",
   "metadata": {
    "hideCode": false,
    "hidePrompt": false
   },
   "source": [
    "<div style=\"font-family: PT Serif Pro Book; text-align: left; color: dark; font-size: 16px;\">\n",
    "    Obtenemos la fuente HTML para ingresar la página de inicio de PWT.\n",
    "</div>"
   ]
  },
  {
   "cell_type": "code",
   "execution_count": 7,
   "id": "6c6fd8e8",
   "metadata": {
    "hideCode": false,
    "hidePrompt": false
   },
   "outputs": [],
   "source": [
    "html = urlopen(\"https://www.rug.nl/ggdc/productivity/pwt/?lang=en\").read() # necesario para scrapear."
   ]
  },
  {
   "cell_type": "markdown",
   "id": "4683e9b5",
   "metadata": {
    "hideCode": false,
    "hidePrompt": false
   },
   "source": [
    "<div style=\"font-family: PT Serif Pro Book; text-align: left; color: dark; font-size: 16px;\">\n",
    "    Definimos el parsing del HTML.\n",
    "</div>"
   ]
  },
  {
   "cell_type": "code",
   "execution_count": 8,
   "id": "8300954c",
   "metadata": {
    "hideCode": false,
    "hidePrompt": false
   },
   "outputs": [],
   "source": [
    "soup = BeautifulSoup(html, 'html.parser')"
   ]
  },
  {
   "cell_type": "markdown",
   "id": "02ed4fe7",
   "metadata": {
    "hideCode": false,
    "hidePrompt": false
   },
   "source": [
    "<div style=\"font-family: PT Serif Pro Book; text-align: left; color: dark; font-size: 16px;\">\n",
    "    Probamos el scraping obteniendo el título de la página web de PWT.\n",
    "</div>"
   ]
  },
  {
   "cell_type": "code",
   "execution_count": 9,
   "id": "613d2e23",
   "metadata": {
    "hideCode": false,
    "hidePrompt": false
   },
   "outputs": [
    {
     "data": {
      "text/plain": [
       "'PWT 10.01 | Penn World Table | Groningen Growth and Development Centre | University of Groningen'"
      ]
     },
     "execution_count": 9,
     "metadata": {},
     "output_type": "execute_result"
    }
   ],
   "source": [
    "title = soup.find('title').string \n",
    "title"
   ]
  },
  {
   "cell_type": "markdown",
   "id": "4cf8e6d2",
   "metadata": {},
   "source": [
    "<div style=\"font-family: PT Serif Pro Book; text-align: left; color: dark; font-size: 16px;\">\n",
    "    Revisamos la versión disponible de PWT\n",
    "</div>"
   ]
  },
  {
   "cell_type": "code",
   "execution_count": 10,
   "id": "347b60a3",
   "metadata": {
    "hideCode": false,
    "hidePrompt": false
   },
   "outputs": [
    {
     "name": "stdout",
     "output_type": "stream",
     "text": [
      "La versión actual es: 10.01\n"
     ]
    }
   ],
   "source": [
    "# Cada vez que visite la página de PWT extraerá la última versión.\n",
    "try:\n",
    "    float(title.string.split(' ')[1])\n",
    "    pwt_version = title.string.split(' ')[1]\n",
    "    print('La versión actual es: ' + pwt_version)\n",
    "except:\n",
    "    print('Automatic PWT version identification failed.')"
   ]
  },
  {
   "cell_type": "markdown",
   "id": "6fa9af27",
   "metadata": {},
   "source": [
    "<div style=\"font-family: PT Serif Pro Book; text-align: left; color: dark; font-size: 16px;\">\n",
    "    <span style=\"font-size: 30px; color: #2541b2; font-weight: bold;\">\n",
    "        <a href=\"#outilne\" style=\"color: #06bee1; text-decoration: none;\">&#11180;</a>\n",
    "    </span> \n",
    "    <a href=\"#outilne\" style=\"color: #2541b2; text-decoration: none;\">Retorne al outline.</a>\n",
    "</div>"
   ]
  },
  {
   "cell_type": "markdown",
   "id": "c887cfb6",
   "metadata": {},
   "source": [
    "<div id=\"2\">\n",
    "   <!-- Contenido de la celda de destino -->\n",
    "</div>"
   ]
  },
  {
   "cell_type": "markdown",
   "id": "06c182b4",
   "metadata": {
    "hideCode": false,
    "hidePrompt": false
   },
   "source": [
    "<h1><span style = \"color: #2541b2; font-family: PT Serif Pro Book; color: dark;\">2.</span> <span style = \"color: dark; font-family: PT Serif Pro Book;\">Limpieza de datos</span></h1>"
   ]
  },
  {
   "cell_type": "markdown",
   "id": "59a82563",
   "metadata": {},
   "source": [
    "<div id=\"2.1.\">\n",
    "   <!-- Contenido de la celda de destino -->\n",
    "</div>"
   ]
  },
  {
   "cell_type": "markdown",
   "id": "fa356317",
   "metadata": {},
   "source": [
    "<h2><span style = \"color: #2541b2; font-family: PT Serif Pro Book; color: #2541b2;\">2.1.</span> <span style = \"color: dark; font-family: PT Serif Pro Book;\">Importamos la data</span></h2>"
   ]
  },
  {
   "cell_type": "markdown",
   "id": "b5a24d88",
   "metadata": {},
   "source": [
    "<div style=\"font-family: PT Serif Pro Book; text-align: left; color: dark; font-size: 16px;\">\n",
    "    Definimos el nombre del archivo (.xlsx) de datos de PWT en caso ya exista la data en su ruta local\n",
    "</div>"
   ]
  },
  {
   "cell_type": "code",
   "execution_count": 11,
   "id": "994ce6d0",
   "metadata": {
    "hideCode": false,
    "hidePrompt": false
   },
   "outputs": [
    {
     "name": "stdout",
     "output_type": "stream",
     "text": [
      "El nombre del archivo xlsx local es: pwt1001.xlsx\n"
     ]
    }
   ],
   "source": [
    "# Definimos el mismo nombre que tendría el archivo original si uno descarga la data manualmente dese la página web\n",
    "local_pwt_raw_data = 'pwt' + pwt_version.replace('.','') + '.xlsx' # En caso tenga la data (.xlsx) de PWT con un nombre diferente en su ruta actual, modifique aquí\n",
    "print(f'El nombre del archivo xlsx local es: {local_pwt_raw_data}')"
   ]
  },
  {
   "cell_type": "markdown",
   "id": "42324863",
   "metadata": {},
   "source": [
    "<div style=\"font-family: PT Serif Pro Book; text-align: left; color: dark; font-size: 16px;\">\n",
    "    Importamos la data de PWT desde su ruta actual en caso cuente con la data o la cargamos desde la web\n",
    "</div>"
   ]
  },
  {
   "cell_type": "code",
   "execution_count": 12,
   "id": "ff8593f0",
   "metadata": {
    "hideCode": false,
    "hidePrompt": false
   },
   "outputs": [],
   "source": [
    "# En caso ya exista la data en su ruta local, se importará la data localmente\n",
    "if os.path.exists('../xslx/' + local_pwt_raw_data):\n",
    "    info = pd.read_excel('../xslx/' + local_pwt_raw_data, sheet_name='Info', header=None)\n",
    "    legend = pd.read_excel('../xslx/' + local_pwt_raw_data, sheet_name='Legend', index_col=0)\n",
    "    pwt = pd.read_excel('../xslx/' + local_pwt_raw_data, sheet_name='Data', index_col=3, parse_dates=True)\n",
    "# En caso NO exista la data en su ruta local, esta se cargará desde la página web de PWT\n",
    "else:\n",
    "    info = pd.read_excel(pwt_excel_url, sheet_name='Info', header=None) \n",
    "    legend = pd.read_excel(pwt_excel_url, sheet_name='Legend', index_col=0)\n",
    "    pwt = pd.read_excel(pwt_excel_url, sheet_name='Data', index_col=3, parse_dates=True)"
   ]
  },
  {
   "cell_type": "markdown",
   "id": "1e18aac8",
   "metadata": {},
   "source": [
    "<div id=\"2.2.\">\n",
    "   <!-- Contenido de la celda de destino -->\n",
    "</div>"
   ]
  },
  {
   "cell_type": "markdown",
   "id": "7a1a6947",
   "metadata": {},
   "source": [
    "<h2><span style = \"color: #2541b2; font-family: PT Serif Pro Book; color: #2541b2;\">2.2.</span> <span style = \"color: dark; font-family: PT Serif Pro Book;\">Generamos información clave de la data de PWT</span></h2>"
   ]
  },
  {
   "cell_type": "markdown",
   "id": "6d8c0c45",
   "metadata": {
    "hideCode": false,
    "hidePrompt": false
   },
   "source": [
    "<div style=\"font-family: PT Serif Pro Book; text-align: left; color: dark; font-size: 16px;\">\n",
    "    Generamos un archivo .csv con información relevante de PWT.\n",
    "</div>"
   ]
  },
  {
   "cell_type": "code",
   "execution_count": 14,
   "id": "74f2eb8d",
   "metadata": {
    "hideCode": false,
    "hidePrompt": false
   },
   "outputs": [],
   "source": [
    "version = info.iloc[0][0].split(' ')[-1]\n",
    "base_year = legend.loc['rgdpe']['Variable definition'].split(' ')[-1].split('US')[0] # año base para las variables en términos reales.\n",
    "final_year = pwt[pwt['countrycode']=='USA'].sort_index().index[-1].year # último año con el que contamos en la data."
   ]
  },
  {
   "cell_type": "code",
   "execution_count": 15,
   "id": "96edf54a",
   "metadata": {
    "hideCode": false,
    "hidePrompt": false
   },
   "outputs": [],
   "source": [
    "# Exportamos el archivo\n",
    "metadata = pd.Series(dtype=str, name='Values')\n",
    "metadata['version'] = version\n",
    "metadata['base_year'] = base_year\n",
    "metadata['final_year'] = final_year\n",
    "metadata['gdp_per_capita_units'] = base_year + ' dollars per person'\n",
    "\n",
    "metadata.to_csv(f\"{tables_folder}/pwt_metadata.csv\")"
   ]
  },
  {
   "cell_type": "markdown",
   "id": "1bfea850",
   "metadata": {},
   "source": [
    "<div style=\"font-family: PT Serif Pro Book; text-align: left; color: dark; font-size: 16px;\">\n",
    "    Generamos un archivo .csv con la descripción de todas las variables de nuestra data PWT.\n",
    "</div>"
   ]
  },
  {
   "cell_type": "code",
   "execution_count": 16,
   "id": "4efa5021",
   "metadata": {},
   "outputs": [],
   "source": [
    "# Exportamos el DataFrame a un archivo CSV\n",
    "legend.to_csv(f\"{tables_folder}/pwt_vars_description.csv\", sep=',')"
   ]
  },
  {
   "cell_type": "markdown",
   "id": "eccb1a5b",
   "metadata": {},
   "source": [
    "<div id=\"2.3.\">\n",
    "   <!-- Contenido de la celda de destino -->\n",
    "</div>"
   ]
  },
  {
   "cell_type": "markdown",
   "id": "c6c0d26c",
   "metadata": {},
   "source": [
    "<h2><span style = \"color: #2541b2; font-family: PT Serif Pro Book; color: #2541b2;\">2.3.</span> <span style = \"color: dark; font-family: PT Serif Pro Book;\">Generamos las variables clave para los HE de Kaldor a partir de la data de PWT</span></h2>"
   ]
  },
  {
   "cell_type": "markdown",
   "id": "31ae35d2",
   "metadata": {
    "hideCode": false,
    "hidePrompt": false
   },
   "source": [
    "<div style=\"font-family: PT Serif Pro Book; text-align: left; color: dark; font-size: 16px;\">\n",
    "    Reestablecemos el índice del dataframe como un ínidice jerárquico\n",
    "</div>"
   ]
  },
  {
   "cell_type": "code",
   "execution_count": 17,
   "id": "d8f41aea",
   "metadata": {
    "hideCode": false,
    "hidePrompt": false
   },
   "outputs": [
    {
     "data": {
      "text/html": [
       "<div>\n",
       "<style scoped>\n",
       "    .dataframe tbody tr th:only-of-type {\n",
       "        vertical-align: middle;\n",
       "    }\n",
       "\n",
       "    .dataframe tbody tr th {\n",
       "        vertical-align: top;\n",
       "    }\n",
       "\n",
       "    .dataframe thead th {\n",
       "        text-align: right;\n",
       "    }\n",
       "</style>\n",
       "<table border=\"1\" class=\"dataframe\">\n",
       "  <thead>\n",
       "    <tr style=\"text-align: right;\">\n",
       "      <th></th>\n",
       "      <th></th>\n",
       "      <th>countrycode</th>\n",
       "      <th>currency_unit</th>\n",
       "      <th>rgdpe</th>\n",
       "      <th>rgdpo</th>\n",
       "      <th>pop</th>\n",
       "      <th>emp</th>\n",
       "      <th>avh</th>\n",
       "      <th>hc</th>\n",
       "      <th>ccon</th>\n",
       "      <th>cda</th>\n",
       "      <th>...</th>\n",
       "      <th>csh_x</th>\n",
       "      <th>csh_m</th>\n",
       "      <th>csh_r</th>\n",
       "      <th>pl_c</th>\n",
       "      <th>pl_i</th>\n",
       "      <th>pl_g</th>\n",
       "      <th>pl_x</th>\n",
       "      <th>pl_m</th>\n",
       "      <th>pl_n</th>\n",
       "      <th>pl_k</th>\n",
       "    </tr>\n",
       "    <tr>\n",
       "      <th>country</th>\n",
       "      <th>year</th>\n",
       "      <th></th>\n",
       "      <th></th>\n",
       "      <th></th>\n",
       "      <th></th>\n",
       "      <th></th>\n",
       "      <th></th>\n",
       "      <th></th>\n",
       "      <th></th>\n",
       "      <th></th>\n",
       "      <th></th>\n",
       "      <th></th>\n",
       "      <th></th>\n",
       "      <th></th>\n",
       "      <th></th>\n",
       "      <th></th>\n",
       "      <th></th>\n",
       "      <th></th>\n",
       "      <th></th>\n",
       "      <th></th>\n",
       "      <th></th>\n",
       "      <th></th>\n",
       "    </tr>\n",
       "  </thead>\n",
       "  <tbody>\n",
       "    <tr>\n",
       "      <th rowspan=\"5\" valign=\"top\">Aruba</th>\n",
       "      <th>1950-01-01</th>\n",
       "      <td>ABW</td>\n",
       "      <td>Aruban Guilder</td>\n",
       "      <td>NaN</td>\n",
       "      <td>NaN</td>\n",
       "      <td>NaN</td>\n",
       "      <td>NaN</td>\n",
       "      <td>NaN</td>\n",
       "      <td>NaN</td>\n",
       "      <td>NaN</td>\n",
       "      <td>NaN</td>\n",
       "      <td>...</td>\n",
       "      <td>NaN</td>\n",
       "      <td>NaN</td>\n",
       "      <td>NaN</td>\n",
       "      <td>NaN</td>\n",
       "      <td>NaN</td>\n",
       "      <td>NaN</td>\n",
       "      <td>NaN</td>\n",
       "      <td>NaN</td>\n",
       "      <td>NaN</td>\n",
       "      <td>NaN</td>\n",
       "    </tr>\n",
       "    <tr>\n",
       "      <th>1951-01-01</th>\n",
       "      <td>ABW</td>\n",
       "      <td>Aruban Guilder</td>\n",
       "      <td>NaN</td>\n",
       "      <td>NaN</td>\n",
       "      <td>NaN</td>\n",
       "      <td>NaN</td>\n",
       "      <td>NaN</td>\n",
       "      <td>NaN</td>\n",
       "      <td>NaN</td>\n",
       "      <td>NaN</td>\n",
       "      <td>...</td>\n",
       "      <td>NaN</td>\n",
       "      <td>NaN</td>\n",
       "      <td>NaN</td>\n",
       "      <td>NaN</td>\n",
       "      <td>NaN</td>\n",
       "      <td>NaN</td>\n",
       "      <td>NaN</td>\n",
       "      <td>NaN</td>\n",
       "      <td>NaN</td>\n",
       "      <td>NaN</td>\n",
       "    </tr>\n",
       "    <tr>\n",
       "      <th>1952-01-01</th>\n",
       "      <td>ABW</td>\n",
       "      <td>Aruban Guilder</td>\n",
       "      <td>NaN</td>\n",
       "      <td>NaN</td>\n",
       "      <td>NaN</td>\n",
       "      <td>NaN</td>\n",
       "      <td>NaN</td>\n",
       "      <td>NaN</td>\n",
       "      <td>NaN</td>\n",
       "      <td>NaN</td>\n",
       "      <td>...</td>\n",
       "      <td>NaN</td>\n",
       "      <td>NaN</td>\n",
       "      <td>NaN</td>\n",
       "      <td>NaN</td>\n",
       "      <td>NaN</td>\n",
       "      <td>NaN</td>\n",
       "      <td>NaN</td>\n",
       "      <td>NaN</td>\n",
       "      <td>NaN</td>\n",
       "      <td>NaN</td>\n",
       "    </tr>\n",
       "    <tr>\n",
       "      <th>1953-01-01</th>\n",
       "      <td>ABW</td>\n",
       "      <td>Aruban Guilder</td>\n",
       "      <td>NaN</td>\n",
       "      <td>NaN</td>\n",
       "      <td>NaN</td>\n",
       "      <td>NaN</td>\n",
       "      <td>NaN</td>\n",
       "      <td>NaN</td>\n",
       "      <td>NaN</td>\n",
       "      <td>NaN</td>\n",
       "      <td>...</td>\n",
       "      <td>NaN</td>\n",
       "      <td>NaN</td>\n",
       "      <td>NaN</td>\n",
       "      <td>NaN</td>\n",
       "      <td>NaN</td>\n",
       "      <td>NaN</td>\n",
       "      <td>NaN</td>\n",
       "      <td>NaN</td>\n",
       "      <td>NaN</td>\n",
       "      <td>NaN</td>\n",
       "    </tr>\n",
       "    <tr>\n",
       "      <th>1954-01-01</th>\n",
       "      <td>ABW</td>\n",
       "      <td>Aruban Guilder</td>\n",
       "      <td>NaN</td>\n",
       "      <td>NaN</td>\n",
       "      <td>NaN</td>\n",
       "      <td>NaN</td>\n",
       "      <td>NaN</td>\n",
       "      <td>NaN</td>\n",
       "      <td>NaN</td>\n",
       "      <td>NaN</td>\n",
       "      <td>...</td>\n",
       "      <td>NaN</td>\n",
       "      <td>NaN</td>\n",
       "      <td>NaN</td>\n",
       "      <td>NaN</td>\n",
       "      <td>NaN</td>\n",
       "      <td>NaN</td>\n",
       "      <td>NaN</td>\n",
       "      <td>NaN</td>\n",
       "      <td>NaN</td>\n",
       "      <td>NaN</td>\n",
       "    </tr>\n",
       "  </tbody>\n",
       "</table>\n",
       "<p>5 rows × 50 columns</p>\n",
       "</div>"
      ],
      "text/plain": [
       "                   countrycode   currency_unit  rgdpe  rgdpo  pop  emp  avh  \\\n",
       "country year                                                                  \n",
       "Aruba   1950-01-01         ABW  Aruban Guilder    NaN    NaN  NaN  NaN  NaN   \n",
       "        1951-01-01         ABW  Aruban Guilder    NaN    NaN  NaN  NaN  NaN   \n",
       "        1952-01-01         ABW  Aruban Guilder    NaN    NaN  NaN  NaN  NaN   \n",
       "        1953-01-01         ABW  Aruban Guilder    NaN    NaN  NaN  NaN  NaN   \n",
       "        1954-01-01         ABW  Aruban Guilder    NaN    NaN  NaN  NaN  NaN   \n",
       "\n",
       "                    hc  ccon  cda  ...  csh_x  csh_m  csh_r  pl_c  pl_i  pl_g  \\\n",
       "country year                       ...                                          \n",
       "Aruba   1950-01-01 NaN   NaN  NaN  ...    NaN    NaN    NaN   NaN   NaN   NaN   \n",
       "        1951-01-01 NaN   NaN  NaN  ...    NaN    NaN    NaN   NaN   NaN   NaN   \n",
       "        1952-01-01 NaN   NaN  NaN  ...    NaN    NaN    NaN   NaN   NaN   NaN   \n",
       "        1953-01-01 NaN   NaN  NaN  ...    NaN    NaN    NaN   NaN   NaN   NaN   \n",
       "        1954-01-01 NaN   NaN  NaN  ...    NaN    NaN    NaN   NaN   NaN   NaN   \n",
       "\n",
       "                    pl_x  pl_m  pl_n  pl_k  \n",
       "country year                                \n",
       "Aruba   1950-01-01   NaN   NaN   NaN   NaN  \n",
       "        1951-01-01   NaN   NaN   NaN   NaN  \n",
       "        1952-01-01   NaN   NaN   NaN   NaN  \n",
       "        1953-01-01   NaN   NaN   NaN   NaN  \n",
       "        1954-01-01   NaN   NaN   NaN   NaN  \n",
       "\n",
       "[5 rows x 50 columns]"
      ]
     },
     "execution_count": 17,
     "metadata": {},
     "output_type": "execute_result"
    }
   ],
   "source": [
    "pwt_df = pwt.copy() # Usamos una copia de la data en bruto para trabajar sobre la copia sin alterar la original\n",
    "pwt_df = pwt_df.set_index(['country', pwt_df.index]) # útil para determinar las unidades id (país-año) y para la visualización de los HE.\n",
    "pwt_df.head(5)"
   ]
  },
  {
   "cell_type": "markdown",
   "id": "0b0e5b8c",
   "metadata": {
    "hideCode": false,
    "hidePrompt": false
   },
   "source": [
    "<div style=\"font-family: PT Serif Pro Book; text-align: left; color: dark; font-size: 16px;\">\n",
    "    Describimos la data\n",
    "</div>"
   ]
  },
  {
   "cell_type": "code",
   "execution_count": 18,
   "id": "ebeea6f3",
   "metadata": {
    "hideCode": false,
    "hidePrompt": false
   },
   "outputs": [
    {
     "data": {
      "text/html": [
       "<div>\n",
       "<style scoped>\n",
       "    .dataframe tbody tr th:only-of-type {\n",
       "        vertical-align: middle;\n",
       "    }\n",
       "\n",
       "    .dataframe tbody tr th {\n",
       "        vertical-align: top;\n",
       "    }\n",
       "\n",
       "    .dataframe thead th {\n",
       "        text-align: right;\n",
       "    }\n",
       "</style>\n",
       "<table border=\"1\" class=\"dataframe\">\n",
       "  <thead>\n",
       "    <tr style=\"text-align: right;\">\n",
       "      <th></th>\n",
       "      <th>rgdpe</th>\n",
       "      <th>rgdpo</th>\n",
       "      <th>pop</th>\n",
       "      <th>emp</th>\n",
       "      <th>avh</th>\n",
       "      <th>hc</th>\n",
       "      <th>ccon</th>\n",
       "      <th>cda</th>\n",
       "      <th>cgdpe</th>\n",
       "      <th>cgdpo</th>\n",
       "      <th>...</th>\n",
       "      <th>csh_x</th>\n",
       "      <th>csh_m</th>\n",
       "      <th>csh_r</th>\n",
       "      <th>pl_c</th>\n",
       "      <th>pl_i</th>\n",
       "      <th>pl_g</th>\n",
       "      <th>pl_x</th>\n",
       "      <th>pl_m</th>\n",
       "      <th>pl_n</th>\n",
       "      <th>pl_k</th>\n",
       "    </tr>\n",
       "  </thead>\n",
       "  <tbody>\n",
       "    <tr>\n",
       "      <th>count</th>\n",
       "      <td>1.039900e+04</td>\n",
       "      <td>1.039900e+04</td>\n",
       "      <td>10399.000000</td>\n",
       "      <td>9529.000000</td>\n",
       "      <td>3492.000000</td>\n",
       "      <td>8637.000000</td>\n",
       "      <td>1.039900e+04</td>\n",
       "      <td>1.039900e+04</td>\n",
       "      <td>1.039900e+04</td>\n",
       "      <td>1.039500e+04</td>\n",
       "      <td>...</td>\n",
       "      <td>10399.000000</td>\n",
       "      <td>10399.000000</td>\n",
       "      <td>10399.000000</td>\n",
       "      <td>10399.000000</td>\n",
       "      <td>10399.000000</td>\n",
       "      <td>10399.000000</td>\n",
       "      <td>10399.000000</td>\n",
       "      <td>10399.000000</td>\n",
       "      <td>10314.000000</td>\n",
       "      <td>7090.000000</td>\n",
       "    </tr>\n",
       "    <tr>\n",
       "      <th>mean</th>\n",
       "      <td>3.048523e+05</td>\n",
       "      <td>3.070802e+05</td>\n",
       "      <td>30.962982</td>\n",
       "      <td>14.171167</td>\n",
       "      <td>1986.923200</td>\n",
       "      <td>2.087200</td>\n",
       "      <td>2.249465e+05</td>\n",
       "      <td>3.049463e+05</td>\n",
       "      <td>3.061396e+05</td>\n",
       "      <td>3.061624e+05</td>\n",
       "      <td>...</td>\n",
       "      <td>0.229317</td>\n",
       "      <td>-0.300829</td>\n",
       "      <td>0.017791</td>\n",
       "      <td>0.370850</td>\n",
       "      <td>0.423964</td>\n",
       "      <td>0.345635</td>\n",
       "      <td>0.409820</td>\n",
       "      <td>0.403422</td>\n",
       "      <td>0.364398</td>\n",
       "      <td>1.417965</td>\n",
       "    </tr>\n",
       "    <tr>\n",
       "      <th>std</th>\n",
       "      <td>1.214332e+06</td>\n",
       "      <td>1.218457e+06</td>\n",
       "      <td>116.189454</td>\n",
       "      <td>58.056973</td>\n",
       "      <td>284.003338</td>\n",
       "      <td>0.727413</td>\n",
       "      <td>8.882343e+05</td>\n",
       "      <td>1.236095e+06</td>\n",
       "      <td>1.226056e+06</td>\n",
       "      <td>1.224439e+06</td>\n",
       "      <td>...</td>\n",
       "      <td>0.266793</td>\n",
       "      <td>0.640212</td>\n",
       "      <td>0.216200</td>\n",
       "      <td>0.424091</td>\n",
       "      <td>0.635708</td>\n",
       "      <td>0.408015</td>\n",
       "      <td>0.196283</td>\n",
       "      <td>0.202566</td>\n",
       "      <td>0.435907</td>\n",
       "      <td>2.078080</td>\n",
       "    </tr>\n",
       "    <tr>\n",
       "      <th>min</th>\n",
       "      <td>2.036377e+01</td>\n",
       "      <td>2.765232e+01</td>\n",
       "      <td>0.004425</td>\n",
       "      <td>0.001200</td>\n",
       "      <td>1380.607643</td>\n",
       "      <td>1.007038</td>\n",
       "      <td>1.604856e+01</td>\n",
       "      <td>2.176663e+01</td>\n",
       "      <td>2.026185e+01</td>\n",
       "      <td>1.693567e+01</td>\n",
       "      <td>...</td>\n",
       "      <td>-1.937363</td>\n",
       "      <td>-23.237627</td>\n",
       "      <td>-12.568965</td>\n",
       "      <td>0.015589</td>\n",
       "      <td>0.006002</td>\n",
       "      <td>0.009270</td>\n",
       "      <td>0.007354</td>\n",
       "      <td>0.020806</td>\n",
       "      <td>0.014431</td>\n",
       "      <td>0.067465</td>\n",
       "    </tr>\n",
       "    <tr>\n",
       "      <th>25%</th>\n",
       "      <td>6.801782e+03</td>\n",
       "      <td>7.191773e+03</td>\n",
       "      <td>1.579663</td>\n",
       "      <td>0.775101</td>\n",
       "      <td>1788.478805</td>\n",
       "      <td>1.450483</td>\n",
       "      <td>5.892980e+03</td>\n",
       "      <td>7.194495e+03</td>\n",
       "      <td>6.689781e+03</td>\n",
       "      <td>6.811935e+03</td>\n",
       "      <td>...</td>\n",
       "      <td>0.067027</td>\n",
       "      <td>-0.379584</td>\n",
       "      <td>-0.025204</td>\n",
       "      <td>0.171226</td>\n",
       "      <td>0.191958</td>\n",
       "      <td>0.116110</td>\n",
       "      <td>0.237652</td>\n",
       "      <td>0.240777</td>\n",
       "      <td>0.171785</td>\n",
       "      <td>0.691959</td>\n",
       "    </tr>\n",
       "    <tr>\n",
       "      <th>50%</th>\n",
       "      <td>3.031913e+04</td>\n",
       "      <td>3.084435e+04</td>\n",
       "      <td>6.150688</td>\n",
       "      <td>2.856044</td>\n",
       "      <td>1972.355973</td>\n",
       "      <td>1.987572</td>\n",
       "      <td>2.465417e+04</td>\n",
       "      <td>3.134864e+04</td>\n",
       "      <td>3.031841e+04</td>\n",
       "      <td>3.049679e+04</td>\n",
       "      <td>...</td>\n",
       "      <td>0.140116</td>\n",
       "      <td>-0.200254</td>\n",
       "      <td>0.000326</td>\n",
       "      <td>0.306258</td>\n",
       "      <td>0.377943</td>\n",
       "      <td>0.244554</td>\n",
       "      <td>0.443856</td>\n",
       "      <td>0.452949</td>\n",
       "      <td>0.300982</td>\n",
       "      <td>1.000000</td>\n",
       "    </tr>\n",
       "    <tr>\n",
       "      <th>75%</th>\n",
       "      <td>1.559740e+05</td>\n",
       "      <td>1.587386e+05</td>\n",
       "      <td>19.934229</td>\n",
       "      <td>8.266107</td>\n",
       "      <td>2168.035042</td>\n",
       "      <td>2.674011</td>\n",
       "      <td>1.133967e+05</td>\n",
       "      <td>1.532297e+05</td>\n",
       "      <td>1.559242e+05</td>\n",
       "      <td>1.559250e+05</td>\n",
       "      <td>...</td>\n",
       "      <td>0.300332</td>\n",
       "      <td>-0.102694</td>\n",
       "      <td>0.044529</td>\n",
       "      <td>0.484549</td>\n",
       "      <td>0.557087</td>\n",
       "      <td>0.452951</td>\n",
       "      <td>0.557034</td>\n",
       "      <td>0.541063</td>\n",
       "      <td>0.453684</td>\n",
       "      <td>1.511751</td>\n",
       "    </tr>\n",
       "    <tr>\n",
       "      <th>max</th>\n",
       "      <td>2.086051e+07</td>\n",
       "      <td>2.059584e+07</td>\n",
       "      <td>1433.783686</td>\n",
       "      <td>799.306641</td>\n",
       "      <td>3039.794005</td>\n",
       "      <td>4.351568</td>\n",
       "      <td>1.682624e+07</td>\n",
       "      <td>2.138355e+07</td>\n",
       "      <td>2.079136e+07</td>\n",
       "      <td>2.056603e+07</td>\n",
       "      <td>...</td>\n",
       "      <td>3.523480</td>\n",
       "      <td>32.874020</td>\n",
       "      <td>7.598285</td>\n",
       "      <td>23.122841</td>\n",
       "      <td>34.444988</td>\n",
       "      <td>18.420809</td>\n",
       "      <td>2.056070</td>\n",
       "      <td>4.990355</td>\n",
       "      <td>20.694918</td>\n",
       "      <td>34.340618</td>\n",
       "    </tr>\n",
       "  </tbody>\n",
       "</table>\n",
       "<p>8 rows × 43 columns</p>\n",
       "</div>"
      ],
      "text/plain": [
       "              rgdpe         rgdpo           pop          emp          avh  \\\n",
       "count  1.039900e+04  1.039900e+04  10399.000000  9529.000000  3492.000000   \n",
       "mean   3.048523e+05  3.070802e+05     30.962982    14.171167  1986.923200   \n",
       "std    1.214332e+06  1.218457e+06    116.189454    58.056973   284.003338   \n",
       "min    2.036377e+01  2.765232e+01      0.004425     0.001200  1380.607643   \n",
       "25%    6.801782e+03  7.191773e+03      1.579663     0.775101  1788.478805   \n",
       "50%    3.031913e+04  3.084435e+04      6.150688     2.856044  1972.355973   \n",
       "75%    1.559740e+05  1.587386e+05     19.934229     8.266107  2168.035042   \n",
       "max    2.086051e+07  2.059584e+07   1433.783686   799.306641  3039.794005   \n",
       "\n",
       "                hc          ccon           cda         cgdpe         cgdpo  \\\n",
       "count  8637.000000  1.039900e+04  1.039900e+04  1.039900e+04  1.039500e+04   \n",
       "mean      2.087200  2.249465e+05  3.049463e+05  3.061396e+05  3.061624e+05   \n",
       "std       0.727413  8.882343e+05  1.236095e+06  1.226056e+06  1.224439e+06   \n",
       "min       1.007038  1.604856e+01  2.176663e+01  2.026185e+01  1.693567e+01   \n",
       "25%       1.450483  5.892980e+03  7.194495e+03  6.689781e+03  6.811935e+03   \n",
       "50%       1.987572  2.465417e+04  3.134864e+04  3.031841e+04  3.049679e+04   \n",
       "75%       2.674011  1.133967e+05  1.532297e+05  1.559242e+05  1.559250e+05   \n",
       "max       4.351568  1.682624e+07  2.138355e+07  2.079136e+07  2.056603e+07   \n",
       "\n",
       "       ...         csh_x         csh_m         csh_r          pl_c  \\\n",
       "count  ...  10399.000000  10399.000000  10399.000000  10399.000000   \n",
       "mean   ...      0.229317     -0.300829      0.017791      0.370850   \n",
       "std    ...      0.266793      0.640212      0.216200      0.424091   \n",
       "min    ...     -1.937363    -23.237627    -12.568965      0.015589   \n",
       "25%    ...      0.067027     -0.379584     -0.025204      0.171226   \n",
       "50%    ...      0.140116     -0.200254      0.000326      0.306258   \n",
       "75%    ...      0.300332     -0.102694      0.044529      0.484549   \n",
       "max    ...      3.523480     32.874020      7.598285     23.122841   \n",
       "\n",
       "               pl_i          pl_g          pl_x          pl_m          pl_n  \\\n",
       "count  10399.000000  10399.000000  10399.000000  10399.000000  10314.000000   \n",
       "mean       0.423964      0.345635      0.409820      0.403422      0.364398   \n",
       "std        0.635708      0.408015      0.196283      0.202566      0.435907   \n",
       "min        0.006002      0.009270      0.007354      0.020806      0.014431   \n",
       "25%        0.191958      0.116110      0.237652      0.240777      0.171785   \n",
       "50%        0.377943      0.244554      0.443856      0.452949      0.300982   \n",
       "75%        0.557087      0.452951      0.557034      0.541063      0.453684   \n",
       "max       34.444988     18.420809      2.056070      4.990355     20.694918   \n",
       "\n",
       "              pl_k  \n",
       "count  7090.000000  \n",
       "mean      1.417965  \n",
       "std       2.078080  \n",
       "min       0.067465  \n",
       "25%       0.691959  \n",
       "50%       1.000000  \n",
       "75%       1.511751  \n",
       "max      34.340618  \n",
       "\n",
       "[8 rows x 43 columns]"
      ]
     },
     "execution_count": 18,
     "metadata": {},
     "output_type": "execute_result"
    }
   ],
   "source": [
    "pwt_df.describe()"
   ]
  },
  {
   "cell_type": "code",
   "execution_count": 19,
   "id": "33a79bc5",
   "metadata": {
    "hideCode": false,
    "hidePrompt": false
   },
   "outputs": [
    {
     "data": {
      "text/plain": [
       "Index(['countrycode', 'currency_unit', 'rgdpe', 'rgdpo', 'pop', 'emp', 'avh',\n",
       "       'hc', 'ccon', 'cda', 'cgdpe', 'cgdpo', 'cn', 'ck', 'ctfp', 'cwtfp',\n",
       "       'rgdpna', 'rconna', 'rdana', 'rnna', 'rkna', 'rtfpna', 'rwtfpna',\n",
       "       'labsh', 'irr', 'delta', 'xr', 'pl_con', 'pl_da', 'pl_gdpo', 'i_cig',\n",
       "       'i_xm', 'i_xr', 'i_outlier', 'i_irr', 'cor_exp', 'statcap', 'csh_c',\n",
       "       'csh_i', 'csh_g', 'csh_x', 'csh_m', 'csh_r', 'pl_c', 'pl_i', 'pl_g',\n",
       "       'pl_x', 'pl_m', 'pl_n', 'pl_k'],\n",
       "      dtype='object')"
      ]
     },
     "execution_count": 19,
     "metadata": {},
     "output_type": "execute_result"
    }
   ],
   "source": [
    "pwt_df.columns # Total de variables"
   ]
  },
  {
   "cell_type": "markdown",
   "id": "3166c3f7",
   "metadata": {},
   "source": [
    "<div style=\"text-align: left; font-family: 'PT Serif Pro Book'; color: dark; font-size:16px\">\n",
    "    <span style=\"font-size: 24px; color: #FFA823; font-weight: bold;\">&#9888;</span>\n",
    "    Revise <code>legend</code> para conocer la descripción de todas las variables de nuestra data PWT.\n",
    "    <div/>"
   ]
  },
  {
   "cell_type": "markdown",
   "id": "80de19f7",
   "metadata": {
    "hideCode": false,
    "hidePrompt": false
   },
   "source": [
    "<div style=\"font-family: PT Serif Pro Book; text-align: left; color: dark; font-size: 16px;\">\n",
    "    Generamos las series de tiempo individuales\n",
    "</div>"
   ]
  },
  {
   "cell_type": "code",
   "execution_count": 20,
   "id": "f1a929ce",
   "metadata": {
    "hideCode": false,
    "hidePrompt": false
   },
   "outputs": [],
   "source": [
    "# Generamos todas las variables clave de los HE en términos per cápita y por trabajador\n",
    "gdp_pc = create_data_set(pwt_df, year_0 = 1960, pwt_code ='rgdpe', per_capita = True, per_worker = False)\n",
    "gdp_pw = create_data_set(pwt_df, year_0 = 1960, pwt_code ='rgdpe', per_capita = False, per_worker = True)\n",
    "capital_pc = create_data_set(pwt_df, year_0 = 1960, pwt_code = 'cn', per_capita = True, per_worker = False)\n",
    "capital_pw = create_data_set(pwt_df, year_0 = 1960, pwt_code = 'cn', per_capita = False, per_worker = True)\n",
    "return_capital = create_data_set(pwt_df, year_0 = 1960, pwt_code = 'irr', per_capita = False, per_worker = False)\n",
    "consumption_pc = create_data_set(pwt_df, year_0 = 1960, pwt_code = 'ccon', per_capita = True, per_worker = False)\n",
    "labor_national_income = create_data_set(pwt_df, year_0 = 1960, pwt_code = 'labsh', per_capita = False, per_worker = False)"
   ]
  },
  {
   "cell_type": "code",
   "execution_count": 23,
   "id": "c44364cd",
   "metadata": {},
   "outputs": [],
   "source": [
    "# Generamos una nueva variable para el ratio capital físico-producto\n",
    "pwt_df['ratio_k_y'] = (pwt_df['cn']/pwt_df['rgdpe']) \n",
    "\n",
    "ratio_k_y_pc = create_data_set(pwt_df, year_0 = 1960, pwt_code = 'ratio_k_y', per_capita = True, per_worker = False)\n",
    "\n",
    "# Generamos dos nuevas variables para las tasas de crecimiento\n",
    "pwt_df['pbi_pc'] = (pwt_df['rgdpe']/pwt_df['pop'])\n",
    "pwt_df['pbi_pw'] = (pwt_df['rgdpe']/pwt_df['emp'])\n",
    "\n",
    "# Ajustamos pct_change para especificar fill_method=None\n",
    "pwt_df['growth_rate_pbi_pc'] = pwt_df['pbi_pc'].pct_change(periods=1, fill_method=None) * 100 # tasa de crecimiento del PBI pc\n",
    "pwt_df['growth_rate_pbi_pw'] = pwt_df['pbi_pw'].pct_change(periods=1, fill_method=None) * 100 # tasa de crecimiento del PBI pw\n",
    "\n",
    "growth_rate_gdp_pc = create_data_set(pwt_df, year_0 = 1960, pwt_code = 'growth_rate_pbi_pc', per_capita = True, per_worker = False)\n",
    "growth_rate_gdp_pw = create_data_set(pwt_df, year_0 = 1960, pwt_code = 'growth_rate_pbi_pw', per_capita = False, per_worker = True)"
   ]
  },
  {
   "cell_type": "code",
   "execution_count": 26,
   "id": "dacaee76",
   "metadata": {
    "hideCode": false,
    "hidePrompt": false
   },
   "outputs": [],
   "source": [
    "# Calculamos logaritmos de las variables \n",
    "pwt_df['log_pbi_pc'] = np.log2(pwt_df['pbi_pc'])\n",
    "pwt_df['log_pbi_pw'] = np.log2(pwt_df['pbi_pw'])\n",
    "log_gdp_pc = create_data_set(pwt_df, year_0 = 1960, pwt_code = 'log_pbi_pc', per_capita = False, per_worker = False)\n",
    "log_gdp_pw = create_data_set(pwt_df, year_0 = 1960, pwt_code = 'log_pbi_pw', per_capita = False, per_worker = False)"
   ]
  },
  {
   "cell_type": "markdown",
   "id": "097e57b0",
   "metadata": {},
   "source": [
    "<div style=\"font-family: PT Serif Pro Book; text-align: left; color: dark; font-size: 16px;\">\n",
    "    Intersectamos países con datos en 1960\n",
    "</div>"
   ]
  },
  {
   "cell_type": "markdown",
   "id": "35214b2f",
   "metadata": {},
   "source": [
    "<div style=\"font-family: PT Serif Pro Book; text-align: left; color: dark; font-size: 16px;\">\n",
    "    El propósito de encontrar esta intersección es asegurar que todos los dataframes estén alineados en términos de los países que contienen datos para el año 1960. Esto es importante para realizar análisis comparativos o combinados, ya que los dataframes deben tener las mismas columnas para una comparación válida.\n",
    "</div>"
   ]
  },
  {
   "cell_type": "code",
   "execution_count": 27,
   "id": "335b629c",
   "metadata": {
    "hideCode": false,
    "hidePrompt": false
   },
   "outputs": [],
   "source": [
    "# Encontramos la intersección de países con datos en 1960\n",
    "intersection = gdp_pc.columns.intersection(gdp_pw.columns)\\\n",
    ".intersection(growth_rate_gdp_pc.columns).intersection(growth_rate_gdp_pw.columns)\\\n",
    ".intersection(log_gdp_pc.columns).intersection(log_gdp_pw.columns)\\\n",
    ".intersection(capital_pc.columns).intersection(capital_pw.columns)\\\n",
    ".intersection(return_capital.columns).intersection(consumption_pc.columns)\\\n",
    ".intersection(labor_national_income.columns).intersection(ratio_k_y_pc.columns)\n",
    "\n",
    "# Ajustamos la data de acuerdo a la intersección anterior\n",
    "gdp_pc = gdp_pc[intersection]\n",
    "gdp_pw = gdp_pw[intersection]\n",
    "growth_rate_gdp_pc = growth_rate_gdp_pc[intersection]\n",
    "growth_rate_gdp_pw = growth_rate_gdp_pw[intersection]\n",
    "log_gdp_pc = log_gdp_pc[intersection]\n",
    "log_gdp_pw = log_gdp_pw[intersection]\n",
    "capital_pc = capital_pc[intersection]\n",
    "capital_pw = capital_pw[intersection]\n",
    "return_capital = return_capital[intersection]\n",
    "consumption_pc = consumption_pc[intersection]\n",
    "labor_national_income = labor_national_income[intersection]\n",
    "ratio_k_y_pc = ratio_k_y_pc[intersection]\n",
    "\n",
    "# Exportamos a .csv\n",
    "gdp_pc.to_csv(f\"{tables_folder}/{'gdp_pc.csv'}\")\n",
    "gdp_pw.to_csv(f\"{tables_folder}/{'gdp_pw.csv'}\")\n",
    "growth_rate_gdp_pc.to_csv(f\"{tables_folder}/{'growth_rate_gdp_pc.csv'}\")\n",
    "growth_rate_gdp_pw.to_csv(f\"{tables_folder}/{'growth_rate_gdp_pw.csv'}\")\n",
    "log_gdp_pc.to_csv(f\"{tables_folder}/{'log_gdp_pc.csv'}\")\n",
    "log_gdp_pw.to_csv(f\"{tables_folder}/{'log_gdp_pw.csv'}\")\n",
    "capital_pc.to_csv(f\"{tables_folder}/{'capital_pc.csv'}\")\n",
    "capital_pw.to_csv(f\"{tables_folder}/{'capital_pw.csv'}\")\n",
    "return_capital.to_csv(f\"{tables_folder}/{'return_capital.csv'}\")\n",
    "consumption_pc.to_csv(f\"{tables_folder}/{'consumption_pc.csv'}\")\n",
    "labor_national_income.to_csv(f\"{tables_folder}/{'labor_national_income.csv'}\")\n",
    "ratio_k_y_pc.to_csv(f\"{tables_folder}/{'ratio_k_y_pc.csv'}\")"
   ]
  },
  {
   "cell_type": "markdown",
   "id": "11abb518",
   "metadata": {},
   "source": [
    "<div style=\"font-family: PT Serif Pro Book; text-align: left; color: dark; font-size: 16px;\">\n",
    "    <span style=\"font-size: 30px; color: #2541b2; font-weight: bold;\">\n",
    "        <a href=\"#outilne\" style=\"color: #06bee1; text-decoration: none;\">&#11180;</a>\n",
    "    </span> \n",
    "    <a href=\"#outilne\" style=\"color: #2541b2; text-decoration: none;\">Retorne al outline.</a>\n",
    "</div>"
   ]
  },
  {
   "cell_type": "markdown",
   "id": "b246cc63",
   "metadata": {},
   "source": [
    "<div id=\"3\">\n",
    "   <!-- Contenido de la celda de destino -->\n",
    "</div>"
   ]
  },
  {
   "cell_type": "markdown",
   "id": "90c5152a",
   "metadata": {
    "hideCode": false,
    "hidePrompt": false
   },
   "source": [
    "<h1><span style = \"color: #2541b2; font-family: PT Serif Pro Book; color: dark;\">3.</span> <span style = \"color: dark; font-family: PT Serif Pro Book;\">Visualización de datos</span></h1>"
   ]
  },
  {
   "cell_type": "markdown",
   "id": "cc427efb",
   "metadata": {},
   "source": [
    "<div id=\"he\">\n",
    "   <!-- Contenido de la celda de destino -->\n",
    "</div>"
   ]
  },
  {
   "cell_type": "markdown",
   "id": "16f56d24",
   "metadata": {},
   "source": [
    "<div style=\"font-family: PT Serif Pro Book; text-align: left; color: #414a49; font-size: 16px;\">\n",
    "    <a href=\"#he-1\" style=\"text-decoration: none; color: #2541b2\"> <span style=\"font-size: 24px; color: #03256c;\">&#10122;</span> La producción per cápita crece en el tiempo y su tasa de crecimiento no es decreciente.</a>\n",
    "    <br>\n",
    "    <a href=\"#he-2\" style=\"text-decoration: none; color: #2541b2\"><span style=\"font-size: 24px; color: #03256c\">&#10123;</span> El capital físico por trabajador crece en el tiempo.</a>\n",
    "    <br>\n",
    "    <a href=\"#he-3\" style=\"text-decoration: none; color: #2541b2\"><span style=\"font-size: 24px; color: #03256c\">&#10124;</span> La tasa de rentabilidad del capital es aproximadamente constante.</a>\n",
    "    <br>\n",
    "    <a href=\"#he-4\" style=\"text-decoration: none; color: #2541b2\"><span style=\"font-size: 24px; color: #03256c\">&#10125;</span> El ratio capital físico entre producción es aproximadamente constante.</a>\n",
    "    <br>\n",
    "    <a href=\"#he-5\" style=\"text-decoration: none; color: #2541b2\"><span style=\"font-size: 24px; color: #03256c\">&#10126;</span> Las participaciones del trabajo y capital físico en la renta nacional son aproximadamente constantes.\n",
    "</a>\n",
    "    <br>\n",
    "    <a href=\"#he-6\" style=\"text-decoration: none; color: #2541b2\"><span style=\"font-size: 24px; color: #03256c\">&#10127;</span> La tasa de crecimiento de la producción por trabajador es muy distinta en los distintos países.</a>\n",
    "</div>"
   ]
  },
  {
   "cell_type": "markdown",
   "id": "6c2e8195",
   "metadata": {},
   "source": [
    "<div id=\"he-1\">\n",
    "   <!-- Contenido de la celda de destino -->\n",
    "</div>"
   ]
  },
  {
   "cell_type": "markdown",
   "id": "b3bb4e91",
   "metadata": {},
   "source": [
    "<div style=\"text-align: left; font-family: 'PT Serif Pro Book'; font-size:22px\">\n",
    "    <span style=\"font-size: 24px; color: #03256c\">&#10122;</span> <span>La producción per cápita crece en el tiempo y su tasa de crecimiento no es decreciente.</span>\n",
    "  </div>"
   ]
  },
  {
   "cell_type": "markdown",
   "id": "0e5e4bcd",
   "metadata": {
    "hideCode": false,
    "hidePrompt": false
   },
   "source": [
    "<div style=\"font-family: Times New Roman; text-align: left; color:dark\"> Producción per cápita. <div/>"
   ]
  },
  {
   "cell_type": "code",
   "execution_count": 28,
   "id": "e4cdc594",
   "metadata": {
    "hideCode": false,
    "hidePrompt": false
   },
   "outputs": [
    {
     "data": {
      "text/html": [
       "<div>\n",
       "<style scoped>\n",
       "    .dataframe tbody tr th:only-of-type {\n",
       "        vertical-align: middle;\n",
       "    }\n",
       "\n",
       "    .dataframe tbody tr th {\n",
       "        vertical-align: top;\n",
       "    }\n",
       "\n",
       "    .dataframe thead th {\n",
       "        text-align: right;\n",
       "    }\n",
       "</style>\n",
       "<table border=\"1\" class=\"dataframe\">\n",
       "  <thead>\n",
       "    <tr style=\"text-align: right;\">\n",
       "      <th></th>\n",
       "      <th>Argentina</th>\n",
       "      <th>Australia</th>\n",
       "      <th>Austria</th>\n",
       "      <th>Belgium</th>\n",
       "      <th>Bolivia (Plurinational State of)</th>\n",
       "      <th>Brazil</th>\n",
       "      <th>Burkina Faso</th>\n",
       "      <th>Canada</th>\n",
       "      <th>Chile</th>\n",
       "      <th>China</th>\n",
       "      <th>...</th>\n",
       "      <th>Taiwan</th>\n",
       "      <th>Thailand</th>\n",
       "      <th>Trinidad and Tobago</th>\n",
       "      <th>Turkey</th>\n",
       "      <th>United Kingdom</th>\n",
       "      <th>United States</th>\n",
       "      <th>Uruguay</th>\n",
       "      <th>Venezuela (Bolivarian Republic of)</th>\n",
       "      <th>Zambia</th>\n",
       "      <th>Zimbabwe</th>\n",
       "    </tr>\n",
       "    <tr>\n",
       "      <th>year</th>\n",
       "      <th></th>\n",
       "      <th></th>\n",
       "      <th></th>\n",
       "      <th></th>\n",
       "      <th></th>\n",
       "      <th></th>\n",
       "      <th></th>\n",
       "      <th></th>\n",
       "      <th></th>\n",
       "      <th></th>\n",
       "      <th></th>\n",
       "      <th></th>\n",
       "      <th></th>\n",
       "      <th></th>\n",
       "      <th></th>\n",
       "      <th></th>\n",
       "      <th></th>\n",
       "      <th></th>\n",
       "      <th></th>\n",
       "      <th></th>\n",
       "      <th></th>\n",
       "    </tr>\n",
       "  </thead>\n",
       "  <tbody>\n",
       "    <tr>\n",
       "      <th>1960-01-01</th>\n",
       "      <td>3252.630494</td>\n",
       "      <td>15437.939216</td>\n",
       "      <td>10109.611369</td>\n",
       "      <td>11293.192122</td>\n",
       "      <td>1545.339433</td>\n",
       "      <td>2429.154769</td>\n",
       "      <td>900.586156</td>\n",
       "      <td>14980.657991</td>\n",
       "      <td>5466.905227</td>\n",
       "      <td>996.100554</td>\n",
       "      <td>...</td>\n",
       "      <td>2553.968123</td>\n",
       "      <td>1214.723473</td>\n",
       "      <td>7869.284796</td>\n",
       "      <td>5051.111940</td>\n",
       "      <td>12861.092670</td>\n",
       "      <td>18900.748300</td>\n",
       "      <td>7705.264011</td>\n",
       "      <td>7851.395244</td>\n",
       "      <td>2858.762323</td>\n",
       "      <td>2485.571112</td>\n",
       "    </tr>\n",
       "    <tr>\n",
       "      <th>1961-01-01</th>\n",
       "      <td>3353.949600</td>\n",
       "      <td>15473.133028</td>\n",
       "      <td>10639.052414</td>\n",
       "      <td>11737.216193</td>\n",
       "      <td>1595.443348</td>\n",
       "      <td>2660.471111</td>\n",
       "      <td>868.797918</td>\n",
       "      <td>15212.399258</td>\n",
       "      <td>5181.702597</td>\n",
       "      <td>857.225202</td>\n",
       "      <td>...</td>\n",
       "      <td>2698.279393</td>\n",
       "      <td>1258.717682</td>\n",
       "      <td>9048.024834</td>\n",
       "      <td>4998.647316</td>\n",
       "      <td>13104.363941</td>\n",
       "      <td>19068.181067</td>\n",
       "      <td>7713.958737</td>\n",
       "      <td>7718.622952</td>\n",
       "      <td>2713.067569</td>\n",
       "      <td>2547.953859</td>\n",
       "    </tr>\n",
       "    <tr>\n",
       "      <th>1962-01-01</th>\n",
       "      <td>3145.833725</td>\n",
       "      <td>16085.577383</td>\n",
       "      <td>10893.577429</td>\n",
       "      <td>12290.966809</td>\n",
       "      <td>1604.521699</td>\n",
       "      <td>2750.120053</td>\n",
       "      <td>931.350502</td>\n",
       "      <td>15865.701722</td>\n",
       "      <td>6272.529843</td>\n",
       "      <td>921.037750</td>\n",
       "      <td>...</td>\n",
       "      <td>2843.134545</td>\n",
       "      <td>1274.564667</td>\n",
       "      <td>8650.320971</td>\n",
       "      <td>5165.759933</td>\n",
       "      <td>13187.817970</td>\n",
       "      <td>19929.942623</td>\n",
       "      <td>7773.475157</td>\n",
       "      <td>7793.094139</td>\n",
       "      <td>2582.095370</td>\n",
       "      <td>2452.915675</td>\n",
       "    </tr>\n",
       "    <tr>\n",
       "      <th>1963-01-01</th>\n",
       "      <td>3073.951879</td>\n",
       "      <td>17126.591887</td>\n",
       "      <td>11316.709075</td>\n",
       "      <td>12612.764838</td>\n",
       "      <td>1671.224684</td>\n",
       "      <td>2847.978324</td>\n",
       "      <td>897.869032</td>\n",
       "      <td>16342.581170</td>\n",
       "      <td>6489.135027</td>\n",
       "      <td>1003.055040</td>\n",
       "      <td>...</td>\n",
       "      <td>3108.697375</td>\n",
       "      <td>1315.594008</td>\n",
       "      <td>9668.196741</td>\n",
       "      <td>5521.461220</td>\n",
       "      <td>13592.445679</td>\n",
       "      <td>20496.012847</td>\n",
       "      <td>7463.180888</td>\n",
       "      <td>8011.923465</td>\n",
       "      <td>2661.708147</td>\n",
       "      <td>2434.347994</td>\n",
       "    </tr>\n",
       "    <tr>\n",
       "      <th>1964-01-01</th>\n",
       "      <td>3232.069949</td>\n",
       "      <td>17551.088332</td>\n",
       "      <td>11799.938402</td>\n",
       "      <td>13416.457116</td>\n",
       "      <td>1766.829266</td>\n",
       "      <td>2912.684002</td>\n",
       "      <td>939.889586</td>\n",
       "      <td>17156.526784</td>\n",
       "      <td>6496.159825</td>\n",
       "      <td>1095.963175</td>\n",
       "      <td>...</td>\n",
       "      <td>3449.727818</td>\n",
       "      <td>1392.559547</td>\n",
       "      <td>9838.998520</td>\n",
       "      <td>5630.367014</td>\n",
       "      <td>14308.948818</td>\n",
       "      <td>21400.358562</td>\n",
       "      <td>7707.037661</td>\n",
       "      <td>8533.701579</td>\n",
       "      <td>3031.893674</td>\n",
       "      <td>2297.194039</td>\n",
       "    </tr>\n",
       "  </tbody>\n",
       "</table>\n",
       "<p>5 rows × 62 columns</p>\n",
       "</div>"
      ],
      "text/plain": [
       "              Argentina     Australia       Austria       Belgium  \\\n",
       "year                                                                \n",
       "1960-01-01  3252.630494  15437.939216  10109.611369  11293.192122   \n",
       "1961-01-01  3353.949600  15473.133028  10639.052414  11737.216193   \n",
       "1962-01-01  3145.833725  16085.577383  10893.577429  12290.966809   \n",
       "1963-01-01  3073.951879  17126.591887  11316.709075  12612.764838   \n",
       "1964-01-01  3232.069949  17551.088332  11799.938402  13416.457116   \n",
       "\n",
       "            Bolivia (Plurinational State of)       Brazil  Burkina Faso  \\\n",
       "year                                                                      \n",
       "1960-01-01                       1545.339433  2429.154769    900.586156   \n",
       "1961-01-01                       1595.443348  2660.471111    868.797918   \n",
       "1962-01-01                       1604.521699  2750.120053    931.350502   \n",
       "1963-01-01                       1671.224684  2847.978324    897.869032   \n",
       "1964-01-01                       1766.829266  2912.684002    939.889586   \n",
       "\n",
       "                  Canada        Chile        China  ...       Taiwan  \\\n",
       "year                                                ...                \n",
       "1960-01-01  14980.657991  5466.905227   996.100554  ...  2553.968123   \n",
       "1961-01-01  15212.399258  5181.702597   857.225202  ...  2698.279393   \n",
       "1962-01-01  15865.701722  6272.529843   921.037750  ...  2843.134545   \n",
       "1963-01-01  16342.581170  6489.135027  1003.055040  ...  3108.697375   \n",
       "1964-01-01  17156.526784  6496.159825  1095.963175  ...  3449.727818   \n",
       "\n",
       "               Thailand  Trinidad and Tobago       Turkey  United Kingdom  \\\n",
       "year                                                                        \n",
       "1960-01-01  1214.723473          7869.284796  5051.111940    12861.092670   \n",
       "1961-01-01  1258.717682          9048.024834  4998.647316    13104.363941   \n",
       "1962-01-01  1274.564667          8650.320971  5165.759933    13187.817970   \n",
       "1963-01-01  1315.594008          9668.196741  5521.461220    13592.445679   \n",
       "1964-01-01  1392.559547          9838.998520  5630.367014    14308.948818   \n",
       "\n",
       "            United States      Uruguay  Venezuela (Bolivarian Republic of)  \\\n",
       "year                                                                         \n",
       "1960-01-01   18900.748300  7705.264011                         7851.395244   \n",
       "1961-01-01   19068.181067  7713.958737                         7718.622952   \n",
       "1962-01-01   19929.942623  7773.475157                         7793.094139   \n",
       "1963-01-01   20496.012847  7463.180888                         8011.923465   \n",
       "1964-01-01   21400.358562  7707.037661                         8533.701579   \n",
       "\n",
       "                 Zambia     Zimbabwe  \n",
       "year                                  \n",
       "1960-01-01  2858.762323  2485.571112  \n",
       "1961-01-01  2713.067569  2547.953859  \n",
       "1962-01-01  2582.095370  2452.915675  \n",
       "1963-01-01  2661.708147  2434.347994  \n",
       "1964-01-01  3031.893674  2297.194039  \n",
       "\n",
       "[5 rows x 62 columns]"
      ]
     },
     "execution_count": 28,
     "metadata": {},
     "output_type": "execute_result"
    }
   ],
   "source": [
    "df_gdp_pc = pd.read_csv(f\"{tables_folder}/{'gdp_pc.csv'}\", index_col = 'year', parse_dates = True)\n",
    "df_gdp_pc.head(5)"
   ]
  },
  {
   "cell_type": "code",
   "execution_count": 33,
   "id": "fab3ee1f",
   "metadata": {
    "hideCode": false,
    "hidePrompt": false
   },
   "outputs": [
    {
     "data": {
      "image/png": "[encoded data removed]",
      "text/plain": [
       "<Figure size 3000x2000 with 1 Axes>"
      ]
     },
     "metadata": {},
     "output_type": "display_data"
    }
   ],
   "source": [
    "# Establecemos el tamaño de la figura\n",
    "fig, ax = plt.subplots(figsize=(30,20))\n",
    "\n",
    "# Cambiar el color de fondo del área del gráfico\n",
    "ax.set_facecolor('#edf2f4')\n",
    "\n",
    "# Cambiar el color de fondo del área de la figura (opcional, si también quieres cambiarlo)\n",
    "fig.patch.set_facecolor('#edf2f4')\n",
    "\n",
    "# Etiquetamos los ejes\n",
    "ax.set_title('HE 1.1: La producción per cápita crece en el tiempo', fontsize = 42)\n",
    "ax.set_xlabel('Año', fontsize = 36)\n",
    "ax.set_ylabel('PBI real per capita', fontsize = 36)\n",
    "ax.tick_params(axis = 'both', which = 'major', labelsize = 32)\n",
    "ax.tick_params(axis = 'both', which = 'minor', labelsize = 16)\n",
    "\n",
    "# Ploteamos\n",
    "with plt.style.context('classic'):\n",
    "    plt.plot(df_gdp_pc['United States'], color = \"#03256c\", linewidth=8)\n",
    "    plt.plot(df_gdp_pc['China'], color = \"#2541b2\", linewidth=8)\n",
    "    plt.plot(df_gdp_pc['Japan'], color = \"#1768ac\", linewidth=8)\n",
    "    plt.plot(df_gdp_pc['Argentina'], color = \"#06bee1\", linewidth=8)\n",
    "    plt.plot(df_gdp_pc['Chile'], color = \"#414a49\", linewidth=8)\n",
    "    plt.plot(df_gdp_pc['Colombia'], color = \"#f1f3f3\", linewidth=8)\n",
    "    plt.plot(df_gdp_pc['Brazil'], color = \"#d90429\", linewidth=8)\n",
    "    plt.plot(df_gdp_pc['Peru'], color=\"#ef233c\", linewidth=8)\n",
    "\n",
    "# Leyenda\n",
    "plt.legend(['United States', 'China', 'Japan', 'Argentina', 'Chile', 'Colombia', 'Brazil', 'Peru'], loc='upper left', fontsize=\"30\")\n",
    "\n",
    "# Guardar el gráfico en un archivo PDF\n",
    "plt.savefig(f\"{graphs_folder}/{'h1_1.pdf'}\", dpi=300, bbox_inches='tight')\n",
    "\n",
    "# Mostrar el gráfico\n",
    "plt.show()"
   ]
  },
  {
   "cell_type": "markdown",
   "id": "161ebea5",
   "metadata": {
    "hideCode": false,
    "hidePrompt": false
   },
   "source": [
    "<div style=\"font-family: Times New Roman; text-align: left; color:dark\"> Tasa de crecimiento de la producción per cápita. <div/>"
   ]
  },
  {
   "cell_type": "code",
   "execution_count": null,
   "id": "12c86ce5",
   "metadata": {
    "hideCode": false,
    "hidePrompt": false
   },
   "outputs": [],
   "source": [
    "df_growth_rate_gdp_pc = pd.read_csv(f\"{out_dir_1}/{'growth_rate_gdp_pc.csv'}\", index_col = 'year', parse_dates = True)\n",
    "df_growth_rate_gdp_pc.head(5)"
   ]
  },
  {
   "cell_type": "code",
   "execution_count": null,
   "id": "e8025936",
   "metadata": {
    "hideCode": false,
    "hidePrompt": false
   },
   "outputs": [],
   "source": [
    "# Establecemos el tamaño de la figura\n",
    "fig, ax = plt.subplots(figsize=(30,20))\n",
    "\n",
    "# Etiquetamos los ejes\n",
    "ax.set_title('HE 1.2: La tasa de crecimiento de la producción per cápita no es decreciente', fontsize = 42)\n",
    "ax.set_xlabel('Año', fontsize = 36)\n",
    "ax.set_ylabel('PBI real per capita', fontsize = 36)\n",
    "ax.tick_params(axis = 'both', which = 'major', labelsize = 32)\n",
    "ax.tick_params(axis = 'both', which = 'minor', labelsize = 16)\n",
    "\n",
    "# Ploteamos\n",
    "with plt.style.context('classic'):\n",
    "    plt.plot(df_growth_rate_gdp_pc['United States'], color = \"#d81159\", linewidth=8)\n",
    "    plt.plot(df_growth_rate_gdp_pc['China'], color = \"#090c9b\", linewidth=8)\n",
    "    plt.plot(df_growth_rate_gdp_pc['Japan'], color = \"#090c9b\", linewidth=8)\n",
    "    plt.plot(df_growth_rate_gdp_pc['Argentina'], color = \"#3066be\", linewidth=8)\n",
    "    plt.plot(df_growth_rate_gdp_pc['Chile'], color = \"#3066be\", linewidth=8)\n",
    "    plt.plot(df_growth_rate_gdp_pc['Colombia'], color = \"#3066be\", linewidth=8)\n",
    "    plt.plot(df_growth_rate_gdp_pc['Brazil'], color = \"#3066be\", linewidth=8)\n",
    "    plt.plot(df_growth_rate_gdp_pc['Peru'], color=\"#b4c5e4\", linewidth=8)\n",
    "    # Leyenda\n",
    "    plt.legend(['United States', 'China', 'Japan', 'Argentina', 'Chile', 'Colombia', 'Brazil', 'Peru'], loc='upper left', fontsize=\"30\")\n",
    "    plt.savefig(f\"{out_dir_2}/{'h1_2.pdf'}\", dpi=300, bbox_inches='tight') # exportamos  en pdf\n",
    "    plt.show()"
   ]
  },
  {
   "cell_type": "markdown",
   "id": "8ed69457",
   "metadata": {
    "hideCode": false,
    "hidePrompt": false
   },
   "source": [
    "##### Log de la producción per cápita."
   ]
  },
  {
   "cell_type": "code",
   "execution_count": null,
   "id": "ef8ca9a9",
   "metadata": {
    "hideCode": false,
    "hidePrompt": false
   },
   "outputs": [],
   "source": [
    "df_log_gdp_pc = pd.read_csv(f\"{out_dir_1}/{'log_gdp_pc.csv'}\", index_col='year', parse_dates = True)\n",
    "df_log_gdp_pc.head(5)"
   ]
  },
  {
   "cell_type": "markdown",
   "id": "668605ac",
   "metadata": {
    "hideCode": false,
    "hidePrompt": false
   },
   "source": [
    "<div style=\"font-family: Times New Roman; text-align: left; color:dark\"> Veamos qué ocurre con el log PBI pc. <div/>"
   ]
  },
  {
   "cell_type": "code",
   "execution_count": null,
   "id": "1360073c",
   "metadata": {
    "hideCode": false,
    "hidePrompt": false
   },
   "outputs": [],
   "source": [
    "# Establecemos el tamaño de la figura\n",
    "fig, ax = plt.subplots(figsize=(30,20))\n",
    "\n",
    "# Etiquetamos los ejes\n",
    "ax.set_title('HE 1.3: El log de la producción per cápita crece en el tiempo', fontsize = 42)\n",
    "ax.set_xlabel('Año', fontsize = 36)\n",
    "ax.set_ylabel('El capital físico por trabajador', fontsize = 36)\n",
    "ax.tick_params(axis = 'both', which = 'major', labelsize = 32)\n",
    "ax.tick_params(axis = 'both', which = 'minor', labelsize = 16)\n",
    "\n",
    "# Ploteamos\n",
    "with plt.style.context('classic'):\n",
    "    plt.plot(df_log_gdp_pc['United States'], color = \"#d81159\", linewidth=8)\n",
    "    plt.plot(df_log_gdp_pc['China'], color = \"#090c9b\", linewidth=8)\n",
    "    plt.plot(df_log_gdp_pc['Japan'], color = \"#090c9b\", linewidth=8)\n",
    "    plt.plot(df_log_gdp_pc['Argentina'], color = \"#3066be\", linewidth=8)\n",
    "    plt.plot(df_log_gdp_pc['Chile'], color = \"#3066be\", linewidth=8)\n",
    "    plt.plot(df_log_gdp_pc['Colombia'], color = \"#3066be\", linewidth=8)\n",
    "    plt.plot(df_log_gdp_pc['Brazil'], color = \"#3066be\", linewidth=8)\n",
    "    plt.plot(df_log_gdp_pc['Peru'], color=\"#b4c5e4\", linewidth=8)\n",
    "    # Leyenda\n",
    "    plt.legend(['United States', 'China', 'Japan', 'Argentina', 'Chile', 'Colombia', 'Brazil', 'Peru'], loc='upper left', fontsize=\"30\")\n",
    "    plt.savefig(f\"{out_dir_2}/{'h2.pdf'}\", dpi=300, bbox_inches='tight') # exportamos  en pdf\n",
    "    plt.show()"
   ]
  },
  {
   "cell_type": "markdown",
   "id": "98c4b2f7",
   "metadata": {},
   "source": [
    "<div id=\"he-2\">\n",
    "   <!-- Contenido de la celda de destino -->\n",
    "</div>"
   ]
  },
  {
   "cell_type": "markdown",
   "id": "45e53f2a",
   "metadata": {},
   "source": [
    "<div style=\"text-align: left; font-family: 'PT Serif Pro Book'; font-size:22px\">\n",
    "    <span style=\"font-size: 24px; color: #03256c\">&#10123;</span> <span>El capital físico por trabajador crece en el tiempo.\n",
    "</span>\n",
    "  </div>"
   ]
  },
  {
   "cell_type": "code",
   "execution_count": null,
   "id": "2ce5c106",
   "metadata": {
    "hideCode": false,
    "hidePrompt": false
   },
   "outputs": [],
   "source": [
    "df_capital_pw = pd.read_csv(f\"{out_dir_1}/{'capital_pw.csv'}\", index_col='year', parse_dates = True)\n",
    "df_capital_pw.head(5)"
   ]
  },
  {
   "cell_type": "code",
   "execution_count": null,
   "id": "1fda6643",
   "metadata": {
    "hideCode": false,
    "hidePrompt": false
   },
   "outputs": [],
   "source": [
    "# Establecemos el tamaño de la figura\n",
    "fig, ax = plt.subplots(figsize=(30,20))\n",
    "\n",
    "# Etiquetamos los ejes\n",
    "ax.set_title('HE 2: El capital físico por trabajador crece en el tiempo', fontsize = 42)\n",
    "ax.set_xlabel('Año', fontsize = 36)\n",
    "ax.set_ylabel('El capital físico por trabajador', fontsize = 36)\n",
    "ax.tick_params(axis = 'both', which = 'major', labelsize = 32)\n",
    "ax.tick_params(axis = 'both', which = 'minor', labelsize = 16)\n",
    "\n",
    "# Ploteamos\n",
    "with plt.style.context('classic'):\n",
    "    plt.plot(df_capital_pw['United States'], color = \"#d81159\", linewidth=8)\n",
    "    plt.plot(df_capital_pw['China'], color = \"#090c9b\", linewidth=8)\n",
    "    plt.plot(df_capital_pw['Japan'], color = \"#090c9b\", linewidth=8)\n",
    "    plt.plot(df_capital_pw['Argentina'], color = \"#3066be\", linewidth=8)\n",
    "    plt.plot(df_capital_pw['Chile'], color = \"#3066be\", linewidth=8)\n",
    "    plt.plot(df_capital_pw['Colombia'], color = \"#3066be\", linewidth=8)\n",
    "    plt.plot(df_capital_pw['Brazil'], color = \"#3066be\", linewidth=8)\n",
    "    plt.plot(df_capital_pw['Peru'], color=\"#b4c5e4\", linewidth=8)\n",
    "    # Leyenda\n",
    "    plt.legend(['United States', 'China', 'Japan', 'Argentina', 'Chile', 'Colombia', 'Brazil', 'Peru'], loc='upper left', fontsize=\"30\")\n",
    "    plt.savefig(f\"{out_dir_2}/{'h2.pdf'}\", dpi=300, bbox_inches='tight') # exportamos  en pdf\n",
    "    plt.show()"
   ]
  },
  {
   "cell_type": "markdown",
   "id": "7345487a",
   "metadata": {},
   "source": [
    "<div id=\"he-3\">\n",
    "   <!-- Contenido de la celda de destino -->\n",
    "</div>"
   ]
  },
  {
   "cell_type": "markdown",
   "id": "2a23a8db",
   "metadata": {},
   "source": [
    "<div style=\"text-align: left; font-family: 'PT Serif Pro Book'; font-size:22px\">\n",
    "    <span style=\"font-size: 24px; color: #03256c\">&#10124;</span> <span>La tasa de rentabilidad del capital es aproximadamente constante.\n",
    "</span>\n",
    "  </div>"
   ]
  },
  {
   "cell_type": "code",
   "execution_count": null,
   "id": "b2f2ab5b",
   "metadata": {
    "hideCode": false,
    "hidePrompt": false
   },
   "outputs": [],
   "source": [
    "df_return_capital = pd.read_csv(f\"{out_dir_1}/{'return_capital.csv'}\", index_col = 'year', parse_dates=True)\n",
    "df_return_capital.head(5)"
   ]
  },
  {
   "cell_type": "code",
   "execution_count": null,
   "id": "8331d0e4",
   "metadata": {
    "hideCode": false,
    "hidePrompt": false
   },
   "outputs": [],
   "source": [
    "# Establecemos el tamaño de la figura\n",
    "fig, ax = plt.subplots(figsize=(30,20))\n",
    "\n",
    "# Etiquetamos los ejes\n",
    "ax.set_title('HE 3: La tasa de rentabilidad del capital es aproximadamente constante', fontsize = 42)\n",
    "ax.set_xlabel('Año', fontsize = 36)\n",
    "ax.set_ylabel('El capital físico por trabajador', fontsize = 36)\n",
    "ax.tick_params(axis = 'both', which = 'major', labelsize = 32)\n",
    "ax.tick_params(axis = 'both', which = 'minor', labelsize = 16)\n",
    "\n",
    "# Ploteamos\n",
    "with plt.style.context('classic'):\n",
    "    plt.plot(df_return_capital['United States'], color = \"#d81159\", linewidth=8)\n",
    "    plt.plot(df_return_capital['China'], color = \"#090c9b\", linewidth=8)\n",
    "    plt.plot(df_return_capital['Japan'], color = \"#090c9b\", linewidth=8)\n",
    "    plt.plot(df_return_capital['Argentina'], color = \"#3066be\", linewidth=8)\n",
    "    plt.plot(df_return_capital['Chile'], color = \"#3066be\", linewidth=8)\n",
    "    plt.plot(df_return_capital['Colombia'], color = \"#3066be\", linewidth=8)\n",
    "    plt.plot(df_return_capital['Brazil'], color = \"#3066be\", linewidth=8)\n",
    "    plt.plot(df_return_capital['Peru'], color=\"#b4c5e4\", linewidth=8)\n",
    "    # Leyenda\n",
    "    plt.legend(['United States', 'China', 'Japan', 'Argentina', 'Chile', 'Colombia', 'Brazil', 'Peru'], loc='upper left', fontsize=\"30\")\n",
    "    plt.savefig(f\"{out_dir_2}/{'h3.pdf'}\", dpi=300, bbox_inches='tight') # exportamos  en pdf\n",
    "    plt.show()"
   ]
  },
  {
   "cell_type": "markdown",
   "id": "62f8408a",
   "metadata": {},
   "source": [
    "<div id=\"he-4\">\n",
    "   <!-- Contenido de la celda de destino -->\n",
    "</div>"
   ]
  },
  {
   "cell_type": "markdown",
   "id": "1267cfe9",
   "metadata": {},
   "source": [
    "<div style=\"text-align: left; font-family: 'PT Serif Pro Book'; font-size:22px\">\n",
    "    <span style=\"font-size: 24px; color: #03256c\">&#10125;</span> <span>El ratio capital físico entre producción es aproximadamente constante.\n",
    "\n",
    "</span>\n",
    "  </div>"
   ]
  },
  {
   "cell_type": "code",
   "execution_count": null,
   "id": "187b094e",
   "metadata": {
    "hideCode": false,
    "hidePrompt": false
   },
   "outputs": [],
   "source": [
    "df_ratio_k_y_pc = pd.read_csv(f\"{out_dir_1}/{'ratio_k_y_pc.csv'}\", index_col = 'year', parse_dates=True)\n",
    "df_ratio_k_y_pc.head(5)"
   ]
  },
  {
   "cell_type": "code",
   "execution_count": null,
   "id": "7538419e",
   "metadata": {
    "hideCode": false,
    "hidePrompt": false
   },
   "outputs": [],
   "source": [
    "# Establecemos el tamaño de la figura\n",
    "fig, ax = plt.subplots(figsize=(30,20))\n",
    "\n",
    "# Etiquetamos los ejes\n",
    "ax.set_title('HE 4: El ratio capital físico entre producción es aproximadamente constante', fontsize = 42)\n",
    "ax.set_xlabel('Año', fontsize = 36)\n",
    "ax.set_ylabel('El capital físico por trabajador', fontsize = 36)\n",
    "ax.tick_params(axis = 'both', which = 'major', labelsize = 32)\n",
    "ax.tick_params(axis = 'both', which = 'minor', labelsize = 16)\n",
    "\n",
    "# Ploteamos\n",
    "with plt.style.context('classic'):\n",
    "    plt.plot(df_ratio_k_y_pc['United States'], color = \"#d81159\", linewidth=8)\n",
    "    plt.plot(df_ratio_k_y_pc['China'], color = \"#090c9b\", linewidth=8)\n",
    "    plt.plot(df_ratio_k_y_pc['Japan'], color = \"#090c9b\", linewidth=8)\n",
    "    plt.plot(df_ratio_k_y_pc['Argentina'], color = \"#3066be\", linewidth=8)\n",
    "    plt.plot(df_ratio_k_y_pc['Chile'], color = \"#3066be\", linewidth=8)\n",
    "    plt.plot(df_ratio_k_y_pc['Colombia'], color = \"#3066be\", linewidth=8)\n",
    "    plt.plot(df_ratio_k_y_pc['Brazil'], color = \"#3066be\", linewidth=8)\n",
    "    plt.plot(df_ratio_k_y_pc['Peru'], color=\"#b4c5e4\", linewidth=8)\n",
    "    # Leyenda\n",
    "    plt.legend(['United States', 'China', 'Japan', 'Argentina', 'Chile', 'Colombia', 'Brazil', 'Peru'], loc='upper left', fontsize=\"30\")\n",
    "    plt.savefig(f\"{out_dir_2}/{'h4.pdf'}\", dpi=300, bbox_inches='tight') # exportamos  en pdf\n",
    "    plt.show()"
   ]
  },
  {
   "cell_type": "markdown",
   "id": "903dd37f",
   "metadata": {},
   "source": [
    "<div id=\"he-5\">\n",
    "   <!-- Contenido de la celda de destino -->\n",
    "</div>"
   ]
  },
  {
   "cell_type": "markdown",
   "id": "5011f83f",
   "metadata": {},
   "source": [
    "<div style=\"text-align: left; font-family: 'PT Serif Pro Book'; font-size:22px\">\n",
    "    <span style=\"font-size: 24px; color: #03256c\">&#10126;</span> <span>Las participaciones del trabajo y capital físico en la renta nacional son aproximadamente constantes.\n",
    "\n",
    "</span>\n",
    "  </div>"
   ]
  },
  {
   "cell_type": "code",
   "execution_count": null,
   "id": "d853e9aa",
   "metadata": {
    "hideCode": false,
    "hidePrompt": false
   },
   "outputs": [],
   "source": [
    "df_labor_national_income = pd.read_csv(f\"{out_dir_1}/{'labor_national_income.csv'}\", index_col = 'year', parse_dates=True)\n",
    "df_labor_national_income.head(5)"
   ]
  },
  {
   "cell_type": "code",
   "execution_count": null,
   "id": "f97ac310",
   "metadata": {
    "hideCode": false,
    "hidePrompt": false
   },
   "outputs": [],
   "source": [
    "# Establecemos el tamaño de la figura\n",
    "fig, ax = plt.subplots(figsize=(30,20))\n",
    "\n",
    "# Etiquetamos los ejes\n",
    "ax.set_title('HE 5:  La participación del trabajo en la renta nacional es aproximadamente constante', fontsize = 42)\n",
    "ax.set_xlabel('Año', fontsize = 36)\n",
    "ax.set_ylabel('El capital físico por trabajador', fontsize = 36)\n",
    "ax.tick_params(axis = 'both', which = 'major', labelsize = 32)\n",
    "ax.tick_params(axis = 'both', which = 'minor', labelsize = 16)\n",
    "\n",
    "# Ploteamos\n",
    "with plt.style.context('classic'):\n",
    "    plt.plot(df_labor_national_income['United States'], color = \"#d81159\", linewidth=8)\n",
    "    plt.plot(df_labor_national_income['China'], color = \"#090c9b\", linewidth=8)\n",
    "    plt.plot(df_labor_national_income['Japan'], color = \"#090c9b\", linewidth=8)\n",
    "    plt.plot(df_labor_national_income['Argentina'], color = \"#3066be\", linewidth=8)\n",
    "    plt.plot(df_labor_national_income['Chile'], color = \"#3066be\", linewidth=8)\n",
    "    plt.plot(df_labor_national_income['Colombia'], color = \"#3066be\", linewidth=8)\n",
    "    plt.plot(df_labor_national_income['Brazil'], color = \"#3066be\", linewidth=8)\n",
    "    plt.plot(df_labor_national_income['Peru'], color=\"#b4c5e4\", linewidth=8)\n",
    "    # Leyenda\n",
    "    plt.legend(['United States', 'China', 'Japan', 'Argentina', 'Chile', 'Colombia', 'Brazil', 'Peru'], loc='upper left', fontsize=\"30\")\n",
    "    plt.savefig(f\"{out_dir_2}/{'h5.pdf'}\", dpi=300, bbox_inches='tight') # exportamos  en pdf\n",
    "    plt.show()"
   ]
  },
  {
   "cell_type": "markdown",
   "id": "e604ee51",
   "metadata": {},
   "source": [
    "<div id=\"he-3\">\n",
    "   <!-- Contenido de la celda de destino -->\n",
    "</div>"
   ]
  },
  {
   "cell_type": "markdown",
   "id": "59bd5159",
   "metadata": {},
   "source": [
    "<div style=\"text-align: left; font-family: 'PT Serif Pro Book'; font-size:22px\">\n",
    "    <span style=\"font-size: 24px; color: #03256c\">&#10127;</span> <span>La tasa de crecimiento de la producción por trabajador es muy distinta en los distintos países.\n",
    "\n",
    "</span>\n",
    "  </div>"
   ]
  },
  {
   "cell_type": "code",
   "execution_count": null,
   "id": "b6e0120d",
   "metadata": {
    "hideCode": false,
    "hidePrompt": false
   },
   "outputs": [],
   "source": [
    "df_gdp_pw = pd.read_csv(f\"{out_dir_1}/{'gdp_pw.csv'}\", index_col = 'year', parse_dates=True)\n",
    "df_gdp_pw.head(5)"
   ]
  },
  {
   "cell_type": "markdown",
   "id": "9a243a3c",
   "metadata": {
    "hideCode": false,
    "hidePrompt": false
   },
   "source": [
    "<div style=\"font-family: Times New Roman; text-align: left; color:dark\"> Tasa de crecimiento de la producción por trabajador. <div/>"
   ]
  },
  {
   "cell_type": "code",
   "execution_count": null,
   "id": "19a15782",
   "metadata": {
    "hideCode": false,
    "hidePrompt": false
   },
   "outputs": [],
   "source": [
    "df_growth_rate_gdp_pw = pd.read_csv(f\"{out_dir_1}/{'growth_rate_gdp_pw.csv'}\", index_col = 'year', parse_dates = True)\n",
    "df_growth_rate_gdp_pw.head(5)"
   ]
  },
  {
   "cell_type": "code",
   "execution_count": null,
   "id": "400ecd4a",
   "metadata": {
    "hideCode": false,
    "hidePrompt": false
   },
   "outputs": [],
   "source": [
    "# Establecemos el tamaño de la figura\n",
    "fig, ax = plt.subplots(figsize=(30,20))\n",
    "\n",
    "# Etiquetamos los ejes\n",
    "ax.set_title('HE 6:  La tasa de crecimiento de la producción por trabajador es muy distinta en los distintos países', fontsize = 42)\n",
    "ax.set_xlabel('Año', fontsize = 36)\n",
    "ax.set_ylabel('El capital físico por trabajador', fontsize = 36)\n",
    "ax.tick_params(axis = 'both', which = 'major', labelsize = 32)\n",
    "ax.tick_params(axis = 'both', which = 'minor', labelsize = 16)\n",
    "\n",
    "# Ploteamos\n",
    "with plt.style.context('classic'):\n",
    "    plt.plot(df_growth_rate_gdp_pw['United States'], color = \"#d81159\", linewidth=8)\n",
    "    plt.plot(df_growth_rate_gdp_pw['China'], color = \"#090c9b\", linewidth=8)\n",
    "    plt.plot(df_growth_rate_gdp_pw['Japan'], color = \"#090c9b\", linewidth=8)\n",
    "    plt.plot(df_growth_rate_gdp_pw['Argentina'], color = \"#3066be\", linewidth=8)\n",
    "    plt.plot(df_growth_rate_gdp_pw['Chile'], color = \"#3066be\", linewidth=8)\n",
    "    plt.plot(df_growth_rate_gdp_pw['Colombia'], color = \"#3066be\", linewidth=8)\n",
    "    plt.plot(df_growth_rate_gdp_pw['Brazil'], color = \"#3066be\", linewidth=8)\n",
    "    plt.plot(df_growth_rate_gdp_pw['Peru'], color=\"#b4c5e4\", linewidth=8)\n",
    "    # Leyenda\n",
    "    plt.legend(['United States', 'China', 'Japan', 'Argentina', 'Chile', 'Colombia', 'Brazil', 'Peru'], loc='upper left', fontsize=\"30\")\n",
    "    plt.savefig(f\"{out_dir_2}/{'h6.pdf'}\", dpi=300, bbox_inches='tight') # exportamos  en pdf\n",
    "    plt.show()"
   ]
  },
  {
   "cell_type": "markdown",
   "id": "fa2326f2",
   "metadata": {
    "collapsed": true,
    "hideCode": false,
    "hidePrompt": false
   },
   "source": [
    "<div style=\"text-align: left;\">\n",
    "    <span style=\"font-size: 24px; color: rgb(255, 32, 78); font-weight: bold;\">&#128221;</span>\n",
    "    <span style=\"font-family: PT Serif Pro Book; color: black; font-size: 16px;\">\n",
    "        Hasta este punto, hemos abordado el apartado <b>a)</b> del <b>ejercicio 1 \"Replicando los Hechos Estilizados del Crecimiento Económico\"</b>. De hecho, hemos ido más allá de los requerimientos iniciales al replicar todos los HE. Revise el <i>script</i> <code>he_growth_correlates.m</code> de matlab para realizar las demás tareas, desde <b>b)</b> hasta <b>c)</b>. Dicho <i>script</i> requiere la data <code>pwt_parsed.xlsx</code>\n",
    "    </span>\n",
    "</div>"
   ]
  },
  {
   "cell_type": "markdown",
   "id": "32a80d29",
   "metadata": {},
   "source": [
    "---\n",
    "---\n"
   ]
  },
  {
   "cell_type": "code",
   "execution_count": null,
   "id": "ba8d98eb",
   "metadata": {},
   "outputs": [],
   "source": []
  },
  {
   "cell_type": "code",
   "execution_count": null,
   "id": "0a2ee6eb",
   "metadata": {},
   "outputs": [],
   "source": []
  }
 ],
 "metadata": {
  "hide_code_all_hidden": false,
  "kernelspec": {
   "display_name": "up_coding",
   "language": "python",
   "name": "up_coding"
  },
  "language_info": {
   "codemirror_mode": {
    "name": "ipython",
    "version": 3
   },
   "file_extension": ".py",
   "mimetype": "text/x-python",
   "name": "python",
   "nbconvert_exporter": "python",
   "pygments_lexer": "ipython3",
   "version": "3.9.16"
  }
 },
 "nbformat": 4,
 "nbformat_minor": 5
}
